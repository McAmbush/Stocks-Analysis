{
 "cells": [
  {
   "cell_type": "code",
   "execution_count": 1,
   "metadata": {},
   "outputs": [],
   "source": [
    "import random\n",
    "import glob\n",
    "import pandas as pd\n",
    "import numpy as np"
   ]
  },
  {
   "cell_type": "code",
   "execution_count": 87,
   "metadata": {},
   "outputs": [],
   "source": [
    "import matplotlib as mpl"
   ]
  },
  {
   "cell_type": "code",
   "execution_count": 50,
   "metadata": {},
   "outputs": [],
   "source": [
    "from sklearn.cluster import KMeans\n",
    "import matplotlib.pyplot as plt"
   ]
  },
  {
   "cell_type": "code",
   "execution_count": 2,
   "metadata": {},
   "outputs": [],
   "source": [
    "!unzip -q /home/user/Desktop/Stocks/Small_Cap.zip -d /home/user/Desktop/Stocks/\n",
    "!unzip -q /home/user/Desktop/Stocks/Mid_Cap\\(1\\).zip -d /home/user/Desktop/Stocks/\n",
    "!unzip -q /home/user/Desktop/Stocks/Large_Cap\\(1\\).zip -d /home/user/Desktop/Stocks/"
   ]
  },
  {
   "cell_type": "markdown",
   "metadata": {},
   "source": [
    "## Selecting 30 files randomly"
   ]
  },
  {
   "cell_type": "code",
   "execution_count": 17,
   "metadata": {},
   "outputs": [],
   "source": [
    "files1 = (glob.glob('/home/user/Desktop/Stocks/Small_Cap/*'))\n",
    "files2 = (glob.glob('/home/user/Desktop/Stocks/Mid_Cap//*'))\n",
    "files3 = (glob.glob('/home/user/Desktop/Stocks/Large_Cap//*'))"
   ]
  },
  {
   "cell_type": "code",
   "execution_count": 175,
   "metadata": {},
   "outputs": [],
   "source": [
    "random.shuffle(files1)\n",
    "random.shuffle(files2)\n",
    "random.shuffle(files3)"
   ]
  },
  {
   "cell_type": "code",
   "execution_count": 176,
   "metadata": {},
   "outputs": [],
   "source": [
    "closes = []\n",
    "names = []"
   ]
  },
  {
   "cell_type": "code",
   "execution_count": 177,
   "metadata": {
    "scrolled": true
   },
   "outputs": [],
   "source": [
    "for i,j,k in zip(files1[:10],files2[:10],files3[:10]):\n",
    "    closes.append(pd.read_csv(i)['Close Price'])\n",
    "    names.append(i.split('/')[-1].split('.')[0])\n",
    "    closes.append(pd.read_csv(j)['Close Price'])\n",
    "    names.append(j.split('/')[-1].split('.')[0])\n",
    "    closes.append(pd.read_csv(k)['Close Price'])\n",
    "    names.append(k.split('/')[-1].split('.')[0])"
   ]
  },
  {
   "cell_type": "code",
   "execution_count": 178,
   "metadata": {},
   "outputs": [],
   "source": [
    "data = pd.DataFrame()"
   ]
  },
  {
   "cell_type": "code",
   "execution_count": 179,
   "metadata": {},
   "outputs": [],
   "source": [
    "for i,j in zip(names,closes):\n",
    "    data[i] = j"
   ]
  },
  {
   "cell_type": "code",
   "execution_count": 180,
   "metadata": {},
   "outputs": [
    {
     "data": {
      "text/html": [
       "<div>\n",
       "<style scoped>\n",
       "    .dataframe tbody tr th:only-of-type {\n",
       "        vertical-align: middle;\n",
       "    }\n",
       "\n",
       "    .dataframe tbody tr th {\n",
       "        vertical-align: top;\n",
       "    }\n",
       "\n",
       "    .dataframe thead th {\n",
       "        text-align: right;\n",
       "    }\n",
       "</style>\n",
       "<table border=\"1\" class=\"dataframe\">\n",
       "  <thead>\n",
       "    <tr style=\"text-align: right;\">\n",
       "      <th></th>\n",
       "      <th>SONATSOFTW</th>\n",
       "      <th>IDBI</th>\n",
       "      <th>HDFCBANK</th>\n",
       "      <th>BAJAJELEC</th>\n",
       "      <th>NBCC</th>\n",
       "      <th>INFY</th>\n",
       "      <th>LALPATHLAB</th>\n",
       "      <th>MINDTREE</th>\n",
       "      <th>EICHERMOT</th>\n",
       "      <th>RAYMOND</th>\n",
       "      <th>...</th>\n",
       "      <th>MARUTI</th>\n",
       "      <th>IDFC</th>\n",
       "      <th>MRPL</th>\n",
       "      <th>LT</th>\n",
       "      <th>LEMONTREE</th>\n",
       "      <th>VOLTAS</th>\n",
       "      <th>BPCL</th>\n",
       "      <th>BOMDYEING</th>\n",
       "      <th>GODREJIND</th>\n",
       "      <th>M&amp;M</th>\n",
       "    </tr>\n",
       "  </thead>\n",
       "  <tbody>\n",
       "    <tr>\n",
       "      <th>0</th>\n",
       "      <td>162.65</td>\n",
       "      <td>75.05</td>\n",
       "      <td>1553.40</td>\n",
       "      <td>341.15</td>\n",
       "      <td>197.60</td>\n",
       "      <td>951.55</td>\n",
       "      <td>900.60</td>\n",
       "      <td>509.45</td>\n",
       "      <td>28930.60</td>\n",
       "      <td>772.80</td>\n",
       "      <td>...</td>\n",
       "      <td>6823.90</td>\n",
       "      <td>63.70</td>\n",
       "      <td>134.2</td>\n",
       "      <td>1742.40</td>\n",
       "      <td>71.65</td>\n",
       "      <td>431.85</td>\n",
       "      <td>727.85</td>\n",
       "      <td>82.20</td>\n",
       "      <td>578.55</td>\n",
       "      <td>1375.65</td>\n",
       "    </tr>\n",
       "    <tr>\n",
       "      <th>1</th>\n",
       "      <td>158.60</td>\n",
       "      <td>76.65</td>\n",
       "      <td>1583.00</td>\n",
       "      <td>347.00</td>\n",
       "      <td>198.25</td>\n",
       "      <td>955.00</td>\n",
       "      <td>910.95</td>\n",
       "      <td>511.30</td>\n",
       "      <td>29362.50</td>\n",
       "      <td>785.00</td>\n",
       "      <td>...</td>\n",
       "      <td>6953.95</td>\n",
       "      <td>64.25</td>\n",
       "      <td>131.7</td>\n",
       "      <td>1740.70</td>\n",
       "      <td>66.85</td>\n",
       "      <td>432.45</td>\n",
       "      <td>733.30</td>\n",
       "      <td>83.40</td>\n",
       "      <td>584.80</td>\n",
       "      <td>1366.35</td>\n",
       "    </tr>\n",
       "    <tr>\n",
       "      <th>2</th>\n",
       "      <td>158.25</td>\n",
       "      <td>75.95</td>\n",
       "      <td>1559.65</td>\n",
       "      <td>349.85</td>\n",
       "      <td>200.35</td>\n",
       "      <td>952.80</td>\n",
       "      <td>911.70</td>\n",
       "      <td>506.35</td>\n",
       "      <td>29093.55</td>\n",
       "      <td>783.65</td>\n",
       "      <td>...</td>\n",
       "      <td>6958.20</td>\n",
       "      <td>63.35</td>\n",
       "      <td>135.1</td>\n",
       "      <td>1755.45</td>\n",
       "      <td>66.95</td>\n",
       "      <td>430.20</td>\n",
       "      <td>727.45</td>\n",
       "      <td>82.25</td>\n",
       "      <td>588.60</td>\n",
       "      <td>1378.80</td>\n",
       "    </tr>\n",
       "    <tr>\n",
       "      <th>3</th>\n",
       "      <td>157.40</td>\n",
       "      <td>69.95</td>\n",
       "      <td>1557.15</td>\n",
       "      <td>334.10</td>\n",
       "      <td>194.20</td>\n",
       "      <td>961.75</td>\n",
       "      <td>909.75</td>\n",
       "      <td>492.90</td>\n",
       "      <td>28357.30</td>\n",
       "      <td>746.95</td>\n",
       "      <td>...</td>\n",
       "      <td>6831.05</td>\n",
       "      <td>61.50</td>\n",
       "      <td>136.1</td>\n",
       "      <td>1722.60</td>\n",
       "      <td>66.40</td>\n",
       "      <td>414.10</td>\n",
       "      <td>714.90</td>\n",
       "      <td>78.95</td>\n",
       "      <td>574.60</td>\n",
       "      <td>1352.85</td>\n",
       "    </tr>\n",
       "    <tr>\n",
       "      <th>4</th>\n",
       "      <td>151.90</td>\n",
       "      <td>68.75</td>\n",
       "      <td>1600.00</td>\n",
       "      <td>336.20</td>\n",
       "      <td>193.55</td>\n",
       "      <td>957.95</td>\n",
       "      <td>910.25</td>\n",
       "      <td>497.50</td>\n",
       "      <td>27936.05</td>\n",
       "      <td>723.10</td>\n",
       "      <td>...</td>\n",
       "      <td>6790.55</td>\n",
       "      <td>61.15</td>\n",
       "      <td>133.6</td>\n",
       "      <td>1724.55</td>\n",
       "      <td>67.70</td>\n",
       "      <td>415.75</td>\n",
       "      <td>702.45</td>\n",
       "      <td>77.15</td>\n",
       "      <td>578.00</td>\n",
       "      <td>1333.40</td>\n",
       "    </tr>\n",
       "  </tbody>\n",
       "</table>\n",
       "<p>5 rows × 30 columns</p>\n",
       "</div>"
      ],
      "text/plain": [
       "   SONATSOFTW   IDBI  HDFCBANK  BAJAJELEC    NBCC    INFY  LALPATHLAB  \\\n",
       "0      162.65  75.05   1553.40     341.15  197.60  951.55      900.60   \n",
       "1      158.60  76.65   1583.00     347.00  198.25  955.00      910.95   \n",
       "2      158.25  75.95   1559.65     349.85  200.35  952.80      911.70   \n",
       "3      157.40  69.95   1557.15     334.10  194.20  961.75      909.75   \n",
       "4      151.90  68.75   1600.00     336.20  193.55  957.95      910.25   \n",
       "\n",
       "   MINDTREE  EICHERMOT  RAYMOND  ...   MARUTI   IDFC   MRPL       LT  \\\n",
       "0    509.45   28930.60   772.80  ...  6823.90  63.70  134.2  1742.40   \n",
       "1    511.30   29362.50   785.00  ...  6953.95  64.25  131.7  1740.70   \n",
       "2    506.35   29093.55   783.65  ...  6958.20  63.35  135.1  1755.45   \n",
       "3    492.90   28357.30   746.95  ...  6831.05  61.50  136.1  1722.60   \n",
       "4    497.50   27936.05   723.10  ...  6790.55  61.15  133.6  1724.55   \n",
       "\n",
       "   LEMONTREE  VOLTAS    BPCL  BOMDYEING  GODREJIND      M&M  \n",
       "0      71.65  431.85  727.85      82.20     578.55  1375.65  \n",
       "1      66.85  432.45  733.30      83.40     584.80  1366.35  \n",
       "2      66.95  430.20  727.45      82.25     588.60  1378.80  \n",
       "3      66.40  414.10  714.90      78.95     574.60  1352.85  \n",
       "4      67.70  415.75  702.45      77.15     578.00  1333.40  \n",
       "\n",
       "[5 rows x 30 columns]"
      ]
     },
     "execution_count": 180,
     "metadata": {},
     "output_type": "execute_result"
    }
   ],
   "source": [
    "data.head()"
   ]
  },
  {
   "cell_type": "code",
   "execution_count": 181,
   "metadata": {},
   "outputs": [
    {
     "data": {
      "text/plain": [
       "(494, 30)"
      ]
     },
     "execution_count": 181,
     "metadata": {},
     "output_type": "execute_result"
    }
   ],
   "source": [
    "data.shape"
   ]
  },
  {
   "cell_type": "code",
   "execution_count": 182,
   "metadata": {},
   "outputs": [
    {
     "data": {
      "text/plain": [
       "SONATSOFTW      0\n",
       "IDBI            0\n",
       "HDFCBANK        0\n",
       "BAJAJELEC       0\n",
       "NBCC            0\n",
       "INFY            0\n",
       "LALPATHLAB      0\n",
       "MINDTREE        0\n",
       "EICHERMOT       0\n",
       "RAYMOND         0\n",
       "BERGEPAINT      0\n",
       "RELIANCE        0\n",
       "IRCON         343\n",
       "GMRINFRA        0\n",
       "HINDUNILVR      0\n",
       "VENKEYS         0\n",
       "CASTROLIND      0\n",
       "ADANIPORTS      0\n",
       "LUXIND          0\n",
       "IGL             0\n",
       "MARUTI          0\n",
       "IDFC            0\n",
       "MRPL            0\n",
       "LT              0\n",
       "LEMONTREE     224\n",
       "VOLTAS          0\n",
       "BPCL            0\n",
       "BOMDYEING       0\n",
       "GODREJIND       0\n",
       "M&M             0\n",
       "dtype: int64"
      ]
     },
     "execution_count": 182,
     "metadata": {},
     "output_type": "execute_result"
    }
   ],
   "source": [
    "data.isna().sum()"
   ]
  },
  {
   "cell_type": "markdown",
   "metadata": {},
   "source": [
    "## Calculating Annual Returns and Volatility"
   ]
  },
  {
   "cell_type": "code",
   "execution_count": 183,
   "metadata": {},
   "outputs": [],
   "source": [
    "ret = pd.DataFrame()\n",
    "ret['Annual Returns'] = data.pct_change().dropna().mean()*252\n",
    "ret['Volatility'] = data.pct_change().dropna().std()*np.sqrt(252)"
   ]
  },
  {
   "cell_type": "code",
   "execution_count": 184,
   "metadata": {},
   "outputs": [
    {
     "data": {
      "text/html": [
       "<div>\n",
       "<style scoped>\n",
       "    .dataframe tbody tr th:only-of-type {\n",
       "        vertical-align: middle;\n",
       "    }\n",
       "\n",
       "    .dataframe tbody tr th {\n",
       "        vertical-align: top;\n",
       "    }\n",
       "\n",
       "    .dataframe thead th {\n",
       "        text-align: right;\n",
       "    }\n",
       "</style>\n",
       "<table border=\"1\" class=\"dataframe\">\n",
       "  <thead>\n",
       "    <tr style=\"text-align: right;\">\n",
       "      <th></th>\n",
       "      <th>Annual Returns</th>\n",
       "      <th>Volatility</th>\n",
       "    </tr>\n",
       "  </thead>\n",
       "  <tbody>\n",
       "    <tr>\n",
       "      <th>SONATSOFTW</th>\n",
       "      <td>0.456258</td>\n",
       "      <td>0.401937</td>\n",
       "    </tr>\n",
       "    <tr>\n",
       "      <th>IDBI</th>\n",
       "      <td>-0.296008</td>\n",
       "      <td>0.453787</td>\n",
       "    </tr>\n",
       "    <tr>\n",
       "      <th>HDFCBANK</th>\n",
       "      <td>0.166872</td>\n",
       "      <td>0.256821</td>\n",
       "    </tr>\n",
       "    <tr>\n",
       "      <th>BAJAJELEC</th>\n",
       "      <td>0.316053</td>\n",
       "      <td>0.402414</td>\n",
       "    </tr>\n",
       "    <tr>\n",
       "      <th>NBCC</th>\n",
       "      <td>-0.515176</td>\n",
       "      <td>0.508672</td>\n",
       "    </tr>\n",
       "  </tbody>\n",
       "</table>\n",
       "</div>"
      ],
      "text/plain": [
       "            Annual Returns  Volatility\n",
       "SONATSOFTW        0.456258    0.401937\n",
       "IDBI             -0.296008    0.453787\n",
       "HDFCBANK          0.166872    0.256821\n",
       "BAJAJELEC         0.316053    0.402414\n",
       "NBCC             -0.515176    0.508672"
      ]
     },
     "execution_count": 184,
     "metadata": {},
     "output_type": "execute_result"
    }
   ],
   "source": [
    "ret.head()"
   ]
  },
  {
   "cell_type": "markdown",
   "metadata": {},
   "source": [
    "## Plotting the elbow curve (observed values = 5,10)"
   ]
  },
  {
   "cell_type": "code",
   "execution_count": 145,
   "metadata": {},
   "outputs": [],
   "source": [
    "dist = []\n",
    "for e in range(2,15):\n",
    "    km = KMeans(n_clusters=e)\n",
    "    km.fit(ret)\n",
    "    dist.append(km.inertia_)"
   ]
  },
  {
   "cell_type": "code",
   "execution_count": 54,
   "metadata": {},
   "outputs": [
    {
     "data": {
      "image/png": "[encoded data removed]",
      "text/plain": [
       "<Figure size 432x288 with 1 Axes>"
      ]
     },
     "metadata": {
      "needs_background": "light"
     },
     "output_type": "display_data"
    }
   ],
   "source": [
    "plt.plot(range(2,15),dist)\n",
    "plt.grid(True)"
   ]
  },
  {
   "cell_type": "code",
   "execution_count": 195,
   "metadata": {
    "scrolled": true
   },
   "outputs": [],
   "source": [
    "cols = ['r','g','b','y','c','m','brown','gold','orange','pink','crimson','lime','gray','lightcoral','royalblue','lawngreen','maroon']"
   ]
  },
  {
   "cell_type": "markdown",
   "metadata": {},
   "source": [
    "## Fitting KMeans on multiple values"
   ]
  },
  {
   "cell_type": "code",
   "execution_count": 210,
   "metadata": {
    "scrolled": true
   },
   "outputs": [
    {
     "data": {
      "image/png": "[encoded data removed]",
      "text/plain": [
       "<Figure size 1080x1080 with 16 Axes>"
      ]
     },
     "metadata": {
      "needs_background": "light"
     },
     "output_type": "display_data"
    }
   ],
   "source": [
    "n = 2\n",
    "fig,axes = plt.subplots(4,4,figsize = (15,15))\n",
    "results = []\n",
    "for i in range(4):\n",
    "    for j in range(4):\n",
    "        km = KMeans(n_clusters=n)\n",
    "        km.fit(ret)\n",
    "        pred = km.predict(ret)\n",
    "        results.append(pred)\n",
    "        for x in range(n):\n",
    "            #print(x,i,j)\n",
    "            axes[i][j].scatter(ret[pred==x]['Annual Returns'],ret[pred==x]['Volatility'],c = cols[x],s = 20)\n",
    "        axes[i][j].scatter(km.cluster_centers_[:,0],km.cluster_centers_[:,1],marker = '*',c = 'red',s = 100,label = 'centroids')\n",
    "        n+=1\n",
    "plt.show()"
   ]
  },
  {
   "cell_type": "markdown",
   "metadata": {},
   "source": [
    "## KMeans for 5 clusters"
   ]
  },
  {
   "cell_type": "code",
   "execution_count": 211,
   "metadata": {
    "scrolled": true
   },
   "outputs": [
    {
     "data": {
      "text/plain": [
       "<matplotlib.legend.Legend at 0x7fb6a59df978>"
      ]
     },
     "execution_count": 211,
     "metadata": {},
     "output_type": "execute_result"
    },
    {
     "data": {
      "image/png": "[encoded data removed]",
      "text/plain": [
       "<Figure size 576x576 with 1 Axes>"
      ]
     },
     "metadata": {
      "needs_background": "light"
     },
     "output_type": "display_data"
    }
   ],
   "source": [
    "model = KMeans(5)\n",
    "km = model.fit_predict(ret)\n",
    "plt.figure(figsize = (8,8))\n",
    "for i in range(5):\n",
    "    plt.scatter(ret[km==i]['Annual Returns'],ret[km==i]['Volatility'],c = cols[i],label = 'cluster'+str(i+1))\n",
    "plt.scatter(model.cluster_centers_[:,0],model.cluster_centers_[:,1],marker = '*',s = 150,c = 'r',label = 'centroids')\n",
    "plt.xlabel('Returns')\n",
    "plt.ylabel('Volatility')\n",
    "plt.legend()"
   ]
  },
  {
   "cell_type": "code",
   "execution_count": 212,
   "metadata": {},
   "outputs": [],
   "source": [
    "c5 = km"
   ]
  },
  {
   "cell_type": "markdown",
   "metadata": {},
   "source": [
    "## KMeans for 10 clusters"
   ]
  },
  {
   "cell_type": "code",
   "execution_count": 214,
   "metadata": {},
   "outputs": [
    {
     "data": {
      "text/plain": [
       "<matplotlib.legend.Legend at 0x7fb6a54fcbe0>"
      ]
     },
     "execution_count": 214,
     "metadata": {},
     "output_type": "execute_result"
    },
    {
     "data": {
      "image/png": "[encoded data removed]",
      "text/plain": [
       "<Figure size 576x576 with 1 Axes>"
      ]
     },
     "metadata": {
      "needs_background": "light"
     },
     "output_type": "display_data"
    }
   ],
   "source": [
    "model = KMeans(10)\n",
    "km = model.fit_predict(ret)\n",
    "plt.figure(figsize = (8,8))\n",
    "for i in range(10):\n",
    "    plt.scatter(ret[km==i]['Annual Returns'],ret[km==i]['Volatility'],c = cols[i],label = 'cluster'+str(i+1))\n",
    "plt.scatter(model.cluster_centers_[:,0],model.cluster_centers_[:,1],marker = '*',s = 150,c = 'r',label = 'centroids')\n",
    "plt.xlabel('Returns')\n",
    "plt.ylabel('Volatility')\n",
    "plt.legend()"
   ]
  },
  {
   "cell_type": "code",
   "execution_count": 215,
   "metadata": {},
   "outputs": [],
   "source": [
    "c10 = km"
   ]
  },
  {
   "cell_type": "code",
   "execution_count": 216,
   "metadata": {},
   "outputs": [],
   "source": [
    "ret['Cluster (5)'] = c5\n",
    "ret['Cluster (10)'] = c10"
   ]
  },
  {
   "cell_type": "code",
   "execution_count": 217,
   "metadata": {},
   "outputs": [
    {
     "data": {
      "text/html": [
       "<div>\n",
       "<style scoped>\n",
       "    .dataframe tbody tr th:only-of-type {\n",
       "        vertical-align: middle;\n",
       "    }\n",
       "\n",
       "    .dataframe tbody tr th {\n",
       "        vertical-align: top;\n",
       "    }\n",
       "\n",
       "    .dataframe thead th {\n",
       "        text-align: right;\n",
       "    }\n",
       "</style>\n",
       "<table border=\"1\" class=\"dataframe\">\n",
       "  <thead>\n",
       "    <tr style=\"text-align: right;\">\n",
       "      <th></th>\n",
       "      <th>Annual Returns</th>\n",
       "      <th>Volatility</th>\n",
       "      <th>Cluster (5)</th>\n",
       "      <th>Cluster (10)</th>\n",
       "    </tr>\n",
       "  </thead>\n",
       "  <tbody>\n",
       "    <tr>\n",
       "      <th>SONATSOFTW</th>\n",
       "      <td>0.456258</td>\n",
       "      <td>0.401937</td>\n",
       "      <td>4</td>\n",
       "      <td>5</td>\n",
       "    </tr>\n",
       "    <tr>\n",
       "      <th>IDBI</th>\n",
       "      <td>-0.296008</td>\n",
       "      <td>0.453787</td>\n",
       "      <td>3</td>\n",
       "      <td>3</td>\n",
       "    </tr>\n",
       "    <tr>\n",
       "      <th>HDFCBANK</th>\n",
       "      <td>0.166872</td>\n",
       "      <td>0.256821</td>\n",
       "      <td>0</td>\n",
       "      <td>2</td>\n",
       "    </tr>\n",
       "    <tr>\n",
       "      <th>BAJAJELEC</th>\n",
       "      <td>0.316053</td>\n",
       "      <td>0.402414</td>\n",
       "      <td>4</td>\n",
       "      <td>5</td>\n",
       "    </tr>\n",
       "    <tr>\n",
       "      <th>NBCC</th>\n",
       "      <td>-0.515176</td>\n",
       "      <td>0.508672</td>\n",
       "      <td>3</td>\n",
       "      <td>6</td>\n",
       "    </tr>\n",
       "    <tr>\n",
       "      <th>INFY</th>\n",
       "      <td>-0.022672</td>\n",
       "      <td>0.418963</td>\n",
       "      <td>1</td>\n",
       "      <td>8</td>\n",
       "    </tr>\n",
       "    <tr>\n",
       "      <th>LALPATHLAB</th>\n",
       "      <td>0.078122</td>\n",
       "      <td>0.264419</td>\n",
       "      <td>2</td>\n",
       "      <td>4</td>\n",
       "    </tr>\n",
       "    <tr>\n",
       "      <th>MINDTREE</th>\n",
       "      <td>0.392570</td>\n",
       "      <td>0.341485</td>\n",
       "      <td>4</td>\n",
       "      <td>5</td>\n",
       "    </tr>\n",
       "    <tr>\n",
       "      <th>EICHERMOT</th>\n",
       "      <td>-0.136246</td>\n",
       "      <td>0.294935</td>\n",
       "      <td>2</td>\n",
       "      <td>1</td>\n",
       "    </tr>\n",
       "    <tr>\n",
       "      <th>RAYMOND</th>\n",
       "      <td>0.070021</td>\n",
       "      <td>0.363834</td>\n",
       "      <td>1</td>\n",
       "      <td>8</td>\n",
       "    </tr>\n",
       "  </tbody>\n",
       "</table>\n",
       "</div>"
      ],
      "text/plain": [
       "            Annual Returns  Volatility  Cluster (5)  Cluster (10)\n",
       "SONATSOFTW        0.456258    0.401937            4             5\n",
       "IDBI             -0.296008    0.453787            3             3\n",
       "HDFCBANK          0.166872    0.256821            0             2\n",
       "BAJAJELEC         0.316053    0.402414            4             5\n",
       "NBCC             -0.515176    0.508672            3             6\n",
       "INFY             -0.022672    0.418963            1             8\n",
       "LALPATHLAB        0.078122    0.264419            2             4\n",
       "MINDTREE          0.392570    0.341485            4             5\n",
       "EICHERMOT        -0.136246    0.294935            2             1\n",
       "RAYMOND           0.070021    0.363834            1             8"
      ]
     },
     "execution_count": 217,
     "metadata": {},
     "output_type": "execute_result"
    }
   ],
   "source": [
    "ret.head(10)"
   ]
  },
  {
   "cell_type": "code",
   "execution_count": null,
   "metadata": {},
   "outputs": [],
   "source": []
  }
 ],
 "metadata": {
  "kernelspec": {
   "display_name": "Python 3",
   "language": "python",
   "name": "python3"
  },
  "language_info": {
   "codemirror_mode": {
    "name": "ipython",
    "version": 3
   },
   "file_extension": ".py",
   "mimetype": "text/x-python",
   "name": "python",
   "nbconvert_exporter": "python",
   "pygments_lexer": "ipython3",
   "version": "3.6.9"
  }
 },
 "nbformat": 4,
 "nbformat_minor": 4
}

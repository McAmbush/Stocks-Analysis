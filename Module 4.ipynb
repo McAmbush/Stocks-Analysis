{
 "cells": [
  {
   "cell_type": "code",
   "execution_count": 1,
   "metadata": {},
   "outputs": [],
   "source": [
    "import pandas as pd\n",
    "import numpy as np"
   ]
  },
  {
   "cell_type": "code",
   "execution_count": 185,
   "metadata": {},
   "outputs": [],
   "source": [
    "df = pd.read_csv('/home/user/Module1.csv')"
   ]
  },
  {
   "cell_type": "code",
   "execution_count": 22,
   "metadata": {},
   "outputs": [
    {
     "data": {
      "text/html": [
       "<div>\n",
       "<style scoped>\n",
       "    .dataframe tbody tr th:only-of-type {\n",
       "        vertical-align: middle;\n",
       "    }\n",
       "\n",
       "    .dataframe tbody tr th {\n",
       "        vertical-align: top;\n",
       "    }\n",
       "\n",
       "    .dataframe thead th {\n",
       "        text-align: right;\n",
       "    }\n",
       "</style>\n",
       "<table border=\"1\" class=\"dataframe\">\n",
       "  <thead>\n",
       "    <tr style=\"text-align: right;\">\n",
       "      <th></th>\n",
       "      <th>Unnamed: 0</th>\n",
       "      <th>Date</th>\n",
       "      <th>Close Price</th>\n",
       "      <th>Open Price</th>\n",
       "      <th>High Price</th>\n",
       "      <th>Low Price</th>\n",
       "      <th>Total Traded Quantity</th>\n",
       "      <th>Month</th>\n",
       "      <th>Year</th>\n",
       "      <th>temp</th>\n",
       "      <th>vwap</th>\n",
       "      <th>Day_Perc_Change</th>\n",
       "      <th>Trend</th>\n",
       "    </tr>\n",
       "  </thead>\n",
       "  <tbody>\n",
       "    <tr>\n",
       "      <th>0</th>\n",
       "      <td>375</td>\n",
       "      <td>2018-04-30</td>\n",
       "      <td>1018.58</td>\n",
       "      <td>1034.42</td>\n",
       "      <td>1038.37</td>\n",
       "      <td>1018.30</td>\n",
       "      <td>1.72</td>\n",
       "      <td>Apr</td>\n",
       "      <td>2018</td>\n",
       "      <td>Apr-2018</td>\n",
       "      <td>1018.5800</td>\n",
       "      <td>0.000000</td>\n",
       "      <td>Slight or No Change</td>\n",
       "    </tr>\n",
       "    <tr>\n",
       "      <th>1</th>\n",
       "      <td>376</td>\n",
       "      <td>2018-04-27</td>\n",
       "      <td>1031.45</td>\n",
       "      <td>1045.54</td>\n",
       "      <td>1051.69</td>\n",
       "      <td>1027.59</td>\n",
       "      <td>2.04</td>\n",
       "      <td>Apr</td>\n",
       "      <td>2018</td>\n",
       "      <td>Apr-2018</td>\n",
       "      <td>1025.5627</td>\n",
       "      <td>1.263523</td>\n",
       "      <td>Positive</td>\n",
       "    </tr>\n",
       "    <tr>\n",
       "      <th>2</th>\n",
       "      <td>377</td>\n",
       "      <td>2018-04-26</td>\n",
       "      <td>1043.31</td>\n",
       "      <td>1033.22</td>\n",
       "      <td>1052.02</td>\n",
       "      <td>1020.45</td>\n",
       "      <td>2.55</td>\n",
       "      <td>Apr</td>\n",
       "      <td>2018</td>\n",
       "      <td>Apr-2018</td>\n",
       "      <td>1032.7349</td>\n",
       "      <td>1.149845</td>\n",
       "      <td>Positive</td>\n",
       "    </tr>\n",
       "    <tr>\n",
       "      <th>3</th>\n",
       "      <td>378</td>\n",
       "      <td>2018-04-25</td>\n",
       "      <td>1022.99</td>\n",
       "      <td>1029.75</td>\n",
       "      <td>1036.07</td>\n",
       "      <td>1017.01</td>\n",
       "      <td>2.89</td>\n",
       "      <td>Apr</td>\n",
       "      <td>2018</td>\n",
       "      <td>Apr-2018</td>\n",
       "      <td>1029.6737</td>\n",
       "      <td>-1.947653</td>\n",
       "      <td>Negative</td>\n",
       "    </tr>\n",
       "    <tr>\n",
       "      <th>4</th>\n",
       "      <td>379</td>\n",
       "      <td>2018-04-24</td>\n",
       "      <td>1022.64</td>\n",
       "      <td>1059.20</td>\n",
       "      <td>1064.49</td>\n",
       "      <td>1012.86</td>\n",
       "      <td>6.41</td>\n",
       "      <td>Apr</td>\n",
       "      <td>2018</td>\n",
       "      <td>Apr-2018</td>\n",
       "      <td>1026.7855</td>\n",
       "      <td>-0.034213</td>\n",
       "      <td>Slight or No Change</td>\n",
       "    </tr>\n",
       "  </tbody>\n",
       "</table>\n",
       "</div>"
      ],
      "text/plain": [
       "   Unnamed: 0        Date  Close Price  Open Price  High Price  Low Price  \\\n",
       "0         375  2018-04-30      1018.58     1034.42     1038.37    1018.30   \n",
       "1         376  2018-04-27      1031.45     1045.54     1051.69    1027.59   \n",
       "2         377  2018-04-26      1043.31     1033.22     1052.02    1020.45   \n",
       "3         378  2018-04-25      1022.99     1029.75     1036.07    1017.01   \n",
       "4         379  2018-04-24      1022.64     1059.20     1064.49    1012.86   \n",
       "\n",
       "   Total Traded Quantity Month  Year      temp       vwap  Day_Perc_Change  \\\n",
       "0                   1.72   Apr  2018  Apr-2018  1018.5800         0.000000   \n",
       "1                   2.04   Apr  2018  Apr-2018  1025.5627         1.263523   \n",
       "2                   2.55   Apr  2018  Apr-2018  1032.7349         1.149845   \n",
       "3                   2.89   Apr  2018  Apr-2018  1029.6737        -1.947653   \n",
       "4                   6.41   Apr  2018  Apr-2018  1026.7855        -0.034213   \n",
       "\n",
       "                 Trend  \n",
       "0  Slight or No Change  \n",
       "1             Positive  \n",
       "2             Positive  \n",
       "3             Negative  \n",
       "4  Slight or No Change  "
      ]
     },
     "execution_count": 22,
     "metadata": {},
     "output_type": "execute_result"
    }
   ],
   "source": [
    "df.head()"
   ]
  },
  {
   "cell_type": "code",
   "execution_count": 24,
   "metadata": {},
   "outputs": [],
   "source": [
    "df.drop(['Unnamed: 0'],axis = 1,inplace = True)"
   ]
  },
  {
   "cell_type": "code",
   "execution_count": 25,
   "metadata": {},
   "outputs": [],
   "source": [
    "df['ub'] = df['Close Price'].rolling(14).mean() + 2*df['Close Price'].rolling(14).std()\n",
    "df['lb'] = df['Close Price'].rolling(14).mean() - 2*df['Close Price'].rolling(14).std()"
   ]
  },
  {
   "cell_type": "code",
   "execution_count": 27,
   "metadata": {},
   "outputs": [],
   "source": [
    "df['14-avg'] =  df['Close Price'].rolling(14).mean()"
   ]
  },
  {
   "cell_type": "code",
   "execution_count": 28,
   "metadata": {},
   "outputs": [
    {
     "data": {
      "text/plain": [
       "Date                      0\n",
       "Close Price               0\n",
       "Open Price                0\n",
       "High Price                0\n",
       "Low Price                 0\n",
       "Total Traded Quantity     0\n",
       "Month                     0\n",
       "Year                      0\n",
       "temp                      0\n",
       "vwap                      0\n",
       "Day_Perc_Change           0\n",
       "Trend                     0\n",
       "ub                       13\n",
       "lb                       13\n",
       "14-avg                   13\n",
       "dtype: int64"
      ]
     },
     "execution_count": 28,
     "metadata": {},
     "output_type": "execute_result"
    }
   ],
   "source": [
    "df.isna().sum()"
   ]
  },
  {
   "cell_type": "code",
   "execution_count": 33,
   "metadata": {},
   "outputs": [],
   "source": [
    "def calc(x):\n",
    "    if x['Close Price'] <= x['lb']:\n",
    "        return 'Buy'\n",
    "    elif x['Close Price'] > x['lb'] and x['Close Price'] < x['14-avg']:\n",
    "        return 'Hold Buy/Liquidate Short'\n",
    "    elif x['Close Price'] >= x['14-avg'] and x['Close Price'] < x['ub']:\n",
    "        return 'Hold Short/Liquidate Buy'\n",
    "    elif x['Close Price'] >= x['ub']:\n",
    "        return 'Short'\n",
    "    else:\n",
    "        return 0"
   ]
  },
  {
   "cell_type": "code",
   "execution_count": 34,
   "metadata": {},
   "outputs": [],
   "source": [
    "df['Call'] = 0"
   ]
  },
  {
   "cell_type": "code",
   "execution_count": 35,
   "metadata": {
    "scrolled": false
   },
   "outputs": [],
   "source": [
    "df['Call'] = df.apply(calc,axis = 1)"
   ]
  },
  {
   "cell_type": "code",
   "execution_count": 38,
   "metadata": {},
   "outputs": [],
   "source": [
    "dat = df[13:]"
   ]
  },
  {
   "cell_type": "code",
   "execution_count": 40,
   "metadata": {},
   "outputs": [],
   "source": [
    "x = dat[['Close Price','14-avg','ub','lb']]\n",
    "y = dat[['Call']]"
   ]
  },
  {
   "cell_type": "code",
   "execution_count": 42,
   "metadata": {},
   "outputs": [],
   "source": [
    "from sklearn.preprocessing import StandardScaler\n",
    "from sklearn.model_selection import train_test_split\n",
    "from sklearn.ensemble import RandomForestClassifier\n",
    "from sklearn.svm import SVC\n",
    "from sklearn.neighbors import KNeighborsClassifier\n",
    "from sklearn.neural_network import MLPClassifier"
   ]
  },
  {
   "cell_type": "code",
   "execution_count": 53,
   "metadata": {},
   "outputs": [],
   "source": [
    "from sklearn.metrics import classification_report"
   ]
  },
  {
   "cell_type": "code",
   "execution_count": 45,
   "metadata": {},
   "outputs": [],
   "source": [
    "from sklearn.preprocessing import LabelEncoder"
   ]
  },
  {
   "cell_type": "code",
   "execution_count": 43,
   "metadata": {},
   "outputs": [],
   "source": [
    "ss = StandardScaler()"
   ]
  },
  {
   "cell_type": "code",
   "execution_count": 44,
   "metadata": {},
   "outputs": [],
   "source": [
    "x = ss.fit_transform(x)"
   ]
  },
  {
   "cell_type": "code",
   "execution_count": 46,
   "metadata": {},
   "outputs": [
    {
     "name": "stderr",
     "output_type": "stream",
     "text": [
      "/home/user/.local/lib/python3.6/site-packages/sklearn/preprocessing/label.py:235: DataConversionWarning: A column-vector y was passed when a 1d array was expected. Please change the shape of y to (n_samples, ), for example using ravel().\n",
      "  y = column_or_1d(y, warn=True)\n"
     ]
    }
   ],
   "source": [
    "le = LabelEncoder()\n",
    "y = le.fit_transform(y)"
   ]
  },
  {
   "cell_type": "code",
   "execution_count": 51,
   "metadata": {},
   "outputs": [],
   "source": [
    "train_x,test_x,train_y,test_y = train_test_split(x,y,stratify = y)"
   ]
  },
  {
   "cell_type": "code",
   "execution_count": 52,
   "metadata": {},
   "outputs": [
    {
     "name": "stderr",
     "output_type": "stream",
     "text": [
      "/home/user/.local/lib/python3.6/site-packages/sklearn/ensemble/forest.py:245: FutureWarning: The default value of n_estimators will change from 10 in version 0.20 to 100 in 0.22.\n",
      "  \"10 in version 0.20 to 100 in 0.22.\", FutureWarning)\n"
     ]
    },
    {
     "data": {
      "text/plain": [
       "0.8211382113821138"
      ]
     },
     "execution_count": 52,
     "metadata": {},
     "output_type": "execute_result"
    }
   ],
   "source": [
    "rf = RandomForestClassifier()\n",
    "rf.fit(train_x,train_y)\n",
    "rf.score(test_x,test_y)"
   ]
  },
  {
   "cell_type": "code",
   "execution_count": 54,
   "metadata": {
    "scrolled": true
   },
   "outputs": [
    {
     "name": "stdout",
     "output_type": "stream",
     "text": [
      "              precision    recall  f1-score   support\n",
      "\n",
      "           0       0.67      0.29      0.40         7\n",
      "           1       0.83      0.93      0.88        61\n",
      "           2       0.82      0.86      0.84        49\n",
      "           3       0.00      0.00      0.00         6\n",
      "\n",
      "    accuracy                           0.82       123\n",
      "   macro avg       0.58      0.52      0.53       123\n",
      "weighted avg       0.78      0.82      0.79       123\n",
      "\n"
     ]
    },
    {
     "name": "stderr",
     "output_type": "stream",
     "text": [
      "/home/user/.local/lib/python3.6/site-packages/sklearn/metrics/classification.py:1437: UndefinedMetricWarning: Precision and F-score are ill-defined and being set to 0.0 in labels with no predicted samples.\n",
      "  'precision', 'predicted', average, warn_for)\n"
     ]
    }
   ],
   "source": [
    "print(classification_report(test_y,rf.predict(test_x)))"
   ]
  },
  {
   "cell_type": "code",
   "execution_count": 56,
   "metadata": {},
   "outputs": [
    {
     "name": "stderr",
     "output_type": "stream",
     "text": [
      "/home/user/.local/lib/python3.6/site-packages/sklearn/neural_network/multilayer_perceptron.py:566: ConvergenceWarning: Stochastic Optimizer: Maximum iterations (200) reached and the optimization hasn't converged yet.\n",
      "  % self.max_iter, ConvergenceWarning)\n"
     ]
    },
    {
     "data": {
      "text/plain": [
       "0.9105691056910569"
      ]
     },
     "execution_count": 56,
     "metadata": {},
     "output_type": "execute_result"
    }
   ],
   "source": [
    "nn = MLPClassifier()\n",
    "nn.fit(train_x,train_y)\n",
    "nn.score(test_x,test_y)"
   ]
  },
  {
   "cell_type": "code",
   "execution_count": 64,
   "metadata": {},
   "outputs": [
    {
     "name": "stdout",
     "output_type": "stream",
     "text": [
      "              precision    recall  f1-score   support\n",
      "\n",
      "           0       1.00      0.29      0.44         7\n",
      "           1       0.90      1.00      0.95        61\n",
      "           2       0.92      0.96      0.94        49\n",
      "           3       1.00      0.33      0.50         6\n",
      "\n",
      "    accuracy                           0.91       123\n",
      "   macro avg       0.95      0.64      0.71       123\n",
      "weighted avg       0.92      0.91      0.89       123\n",
      "\n"
     ]
    }
   ],
   "source": [
    "print(classification_report(test_y,nn.predict(test_x)))"
   ]
  },
  {
   "cell_type": "code",
   "execution_count": 59,
   "metadata": {},
   "outputs": [
    {
     "data": {
      "text/plain": [
       "0.8373983739837398"
      ]
     },
     "execution_count": 59,
     "metadata": {},
     "output_type": "execute_result"
    }
   ],
   "source": [
    "knn = KNeighborsClassifier()\n",
    "knn.fit(train_x,train_y)\n",
    "knn.score(test_x,test_y)"
   ]
  },
  {
   "cell_type": "code",
   "execution_count": 60,
   "metadata": {},
   "outputs": [
    {
     "name": "stderr",
     "output_type": "stream",
     "text": [
      "/home/user/.local/lib/python3.6/site-packages/sklearn/svm/base.py:193: FutureWarning: The default value of gamma will change from 'auto' to 'scale' in version 0.22 to account better for unscaled features. Set gamma explicitly to 'auto' or 'scale' to avoid this warning.\n",
      "  \"avoid this warning.\", FutureWarning)\n"
     ]
    },
    {
     "data": {
      "text/plain": [
       "0.8699186991869918"
      ]
     },
     "execution_count": 60,
     "metadata": {},
     "output_type": "execute_result"
    }
   ],
   "source": [
    "svm = SVC()\n",
    "svm.fit(train_x,train_y)\n",
    "svm.score(test_x,test_y)"
   ]
  },
  {
   "cell_type": "code",
   "execution_count": 61,
   "metadata": {},
   "outputs": [
    {
     "name": "stdout",
     "output_type": "stream",
     "text": [
      "              precision    recall  f1-score   support\n",
      "\n",
      "           0       0.00      0.00      0.00         7\n",
      "           1       0.85      1.00      0.92        61\n",
      "           2       0.90      0.92      0.91        49\n",
      "           3       1.00      0.17      0.29         6\n",
      "\n",
      "    accuracy                           0.87       123\n",
      "   macro avg       0.69      0.52      0.53       123\n",
      "weighted avg       0.83      0.87      0.83       123\n",
      "\n"
     ]
    },
    {
     "name": "stderr",
     "output_type": "stream",
     "text": [
      "/home/user/.local/lib/python3.6/site-packages/sklearn/metrics/classification.py:1437: UndefinedMetricWarning: Precision and F-score are ill-defined and being set to 0.0 in labels with no predicted samples.\n",
      "  'precision', 'predicted', average, warn_for)\n"
     ]
    }
   ],
   "source": [
    "print(classification_report(test_y,svm.predict(test_x)))"
   ]
  },
  {
   "cell_type": "code",
   "execution_count": 65,
   "metadata": {},
   "outputs": [],
   "source": [
    "d2 = pd.read_csv('/home/user/Desktop/CIPLA.csv')"
   ]
  },
  {
   "cell_type": "code",
   "execution_count": 66,
   "metadata": {},
   "outputs": [
    {
     "data": {
      "text/html": [
       "<div>\n",
       "<style scoped>\n",
       "    .dataframe tbody tr th:only-of-type {\n",
       "        vertical-align: middle;\n",
       "    }\n",
       "\n",
       "    .dataframe tbody tr th {\n",
       "        vertical-align: top;\n",
       "    }\n",
       "\n",
       "    .dataframe thead th {\n",
       "        text-align: right;\n",
       "    }\n",
       "</style>\n",
       "<table border=\"1\" class=\"dataframe\">\n",
       "  <thead>\n",
       "    <tr style=\"text-align: right;\">\n",
       "      <th></th>\n",
       "      <th>Symbol</th>\n",
       "      <th>Series</th>\n",
       "      <th>Date</th>\n",
       "      <th>Prev Close</th>\n",
       "      <th>Open Price</th>\n",
       "      <th>High Price</th>\n",
       "      <th>Low Price</th>\n",
       "      <th>Last Price</th>\n",
       "      <th>Close Price</th>\n",
       "      <th>Average Price</th>\n",
       "      <th>Total Traded Quantity</th>\n",
       "      <th>Turnover</th>\n",
       "      <th>No. of Trades</th>\n",
       "      <th>Deliverable Qty</th>\n",
       "      <th>% Dly Qt to Traded Qty</th>\n",
       "    </tr>\n",
       "  </thead>\n",
       "  <tbody>\n",
       "    <tr>\n",
       "      <th>0</th>\n",
       "      <td>CIPLA</td>\n",
       "      <td>EQ</td>\n",
       "      <td>15-May-2017</td>\n",
       "      <td>567.95</td>\n",
       "      <td>567.00</td>\n",
       "      <td>572.45</td>\n",
       "      <td>561.00</td>\n",
       "      <td>566.65</td>\n",
       "      <td>569.00</td>\n",
       "      <td>568.17</td>\n",
       "      <td>606569</td>\n",
       "      <td>3.446364e+08</td>\n",
       "      <td>20905</td>\n",
       "      <td>349445</td>\n",
       "      <td>57.61</td>\n",
       "    </tr>\n",
       "    <tr>\n",
       "      <th>1</th>\n",
       "      <td>CIPLA</td>\n",
       "      <td>EQ</td>\n",
       "      <td>16-May-2017</td>\n",
       "      <td>569.00</td>\n",
       "      <td>566.65</td>\n",
       "      <td>570.00</td>\n",
       "      <td>564.00</td>\n",
       "      <td>565.70</td>\n",
       "      <td>565.60</td>\n",
       "      <td>565.88</td>\n",
       "      <td>330195</td>\n",
       "      <td>1.868504e+08</td>\n",
       "      <td>13421</td>\n",
       "      <td>166079</td>\n",
       "      <td>50.30</td>\n",
       "    </tr>\n",
       "    <tr>\n",
       "      <th>2</th>\n",
       "      <td>CIPLA</td>\n",
       "      <td>EQ</td>\n",
       "      <td>17-May-2017</td>\n",
       "      <td>565.60</td>\n",
       "      <td>565.10</td>\n",
       "      <td>566.00</td>\n",
       "      <td>560.05</td>\n",
       "      <td>561.05</td>\n",
       "      <td>562.35</td>\n",
       "      <td>562.01</td>\n",
       "      <td>895238</td>\n",
       "      <td>5.031284e+08</td>\n",
       "      <td>35003</td>\n",
       "      <td>641507</td>\n",
       "      <td>71.66</td>\n",
       "    </tr>\n",
       "    <tr>\n",
       "      <th>3</th>\n",
       "      <td>CIPLA</td>\n",
       "      <td>EQ</td>\n",
       "      <td>18-May-2017</td>\n",
       "      <td>562.35</td>\n",
       "      <td>559.30</td>\n",
       "      <td>564.95</td>\n",
       "      <td>556.80</td>\n",
       "      <td>560.90</td>\n",
       "      <td>560.10</td>\n",
       "      <td>560.16</td>\n",
       "      <td>2155599</td>\n",
       "      <td>1.207477e+09</td>\n",
       "      <td>12636</td>\n",
       "      <td>1862981</td>\n",
       "      <td>86.43</td>\n",
       "    </tr>\n",
       "    <tr>\n",
       "      <th>4</th>\n",
       "      <td>CIPLA</td>\n",
       "      <td>EQ</td>\n",
       "      <td>19-May-2017</td>\n",
       "      <td>560.10</td>\n",
       "      <td>561.30</td>\n",
       "      <td>566.65</td>\n",
       "      <td>558.65</td>\n",
       "      <td>564.20</td>\n",
       "      <td>564.95</td>\n",
       "      <td>561.86</td>\n",
       "      <td>685662</td>\n",
       "      <td>3.852487e+08</td>\n",
       "      <td>10878</td>\n",
       "      <td>376701</td>\n",
       "      <td>54.94</td>\n",
       "    </tr>\n",
       "  </tbody>\n",
       "</table>\n",
       "</div>"
      ],
      "text/plain": [
       "  Symbol Series         Date  Prev Close  Open Price  High Price  Low Price  \\\n",
       "0  CIPLA     EQ  15-May-2017      567.95      567.00      572.45     561.00   \n",
       "1  CIPLA     EQ  16-May-2017      569.00      566.65      570.00     564.00   \n",
       "2  CIPLA     EQ  17-May-2017      565.60      565.10      566.00     560.05   \n",
       "3  CIPLA     EQ  18-May-2017      562.35      559.30      564.95     556.80   \n",
       "4  CIPLA     EQ  19-May-2017      560.10      561.30      566.65     558.65   \n",
       "\n",
       "   Last Price  Close Price  Average Price  Total Traded Quantity  \\\n",
       "0      566.65       569.00         568.17                 606569   \n",
       "1      565.70       565.60         565.88                 330195   \n",
       "2      561.05       562.35         562.01                 895238   \n",
       "3      560.90       560.10         560.16                2155599   \n",
       "4      564.20       564.95         561.86                 685662   \n",
       "\n",
       "       Turnover  No. of Trades  Deliverable Qty  % Dly Qt to Traded Qty  \n",
       "0  3.446364e+08          20905           349445                   57.61  \n",
       "1  1.868504e+08          13421           166079                   50.30  \n",
       "2  5.031284e+08          35003           641507                   71.66  \n",
       "3  1.207477e+09          12636          1862981                   86.43  \n",
       "4  3.852487e+08          10878           376701                   54.94  "
      ]
     },
     "execution_count": 66,
     "metadata": {},
     "output_type": "execute_result"
    }
   ],
   "source": [
    "d2.head()"
   ]
  },
  {
   "cell_type": "code",
   "execution_count": 67,
   "metadata": {},
   "outputs": [],
   "source": [
    "d2['ub'] = d2['Close Price'].rolling(14).mean() + 2*d2['Close Price'].rolling(14).std()\n",
    "d2['lb'] = d2['Close Price'].rolling(14).mean() - 2*d2['Close Price'].rolling(14).std()\n",
    "d2['14-avg'] =  d2['Close Price'].rolling(14).mean()"
   ]
  },
  {
   "cell_type": "code",
   "execution_count": 68,
   "metadata": {},
   "outputs": [],
   "source": [
    "d2['Calls'] = 0"
   ]
  },
  {
   "cell_type": "code",
   "execution_count": 83,
   "metadata": {},
   "outputs": [],
   "source": [
    "d2.dropna(axis = 0,inplace = True)"
   ]
  },
  {
   "cell_type": "code",
   "execution_count": 84,
   "metadata": {},
   "outputs": [],
   "source": [
    "x = d2[['Close Price','14-avg','ub','lb']]"
   ]
  },
  {
   "cell_type": "code",
   "execution_count": 85,
   "metadata": {},
   "outputs": [],
   "source": [
    "x = ss.transform(x)"
   ]
  },
  {
   "cell_type": "code",
   "execution_count": 87,
   "metadata": {},
   "outputs": [],
   "source": [
    "pred = nn.predict(x)"
   ]
  },
  {
   "cell_type": "code",
   "execution_count": 88,
   "metadata": {},
   "outputs": [],
   "source": [
    "d2['Calls'] = pred"
   ]
  },
  {
   "cell_type": "code",
   "execution_count": 92,
   "metadata": {},
   "outputs": [],
   "source": [
    "d2['Calls'] = le.inverse_transform(d2['Calls'])"
   ]
  },
  {
   "cell_type": "code",
   "execution_count": 95,
   "metadata": {},
   "outputs": [],
   "source": [
    "df = pd.read_csv('/home/user/Desktop/HDFC.csv')"
   ]
  },
  {
   "cell_type": "code",
   "execution_count": 97,
   "metadata": {},
   "outputs": [],
   "source": [
    "df['% OC'] = ((df['Close Price']-df['Open Price'])/df['Open Price'])*100\n",
    "df['% LH'] = ((df['High Price']-df['Low Price'])/df['Low Price'])*100\n",
    "df['pct chg'] = df['Close Price'].pct_change()\n",
    "df.dropna(inplace = True)\n",
    "df['5-avg'] = df['pct chg'].rolling(5).mean()\n",
    "df['5-std'] = df['pct chg'].rolling(5).std()"
   ]
  },
  {
   "cell_type": "code",
   "execution_count": 99,
   "metadata": {},
   "outputs": [],
   "source": [
    "df.dropna(inplace = True)"
   ]
  },
  {
   "cell_type": "code",
   "execution_count": 102,
   "metadata": {},
   "outputs": [],
   "source": [
    "df['Action'] = 0"
   ]
  },
  {
   "cell_type": "code",
   "execution_count": 122,
   "metadata": {
    "scrolled": false
   },
   "outputs": [],
   "source": [
    "df['Action'] =  df['Close Price'].shift(-1) > df['Close Price']"
   ]
  },
  {
   "cell_type": "code",
   "execution_count": 130,
   "metadata": {},
   "outputs": [],
   "source": [
    "df['Action'].replace(False,-1,inplace = True)"
   ]
  },
  {
   "cell_type": "code",
   "execution_count": 132,
   "metadata": {},
   "outputs": [],
   "source": [
    "x = df[['% OC','% LH','5-avg','5-std']]\n",
    "y = df['Action']"
   ]
  },
  {
   "cell_type": "code",
   "execution_count": 133,
   "metadata": {},
   "outputs": [],
   "source": [
    "x = ss.fit_transform(x)"
   ]
  },
  {
   "cell_type": "code",
   "execution_count": 135,
   "metadata": {},
   "outputs": [],
   "source": [
    "train_x,test_x,train_y,test_y = train_test_split(x,y,stratify = y)"
   ]
  },
  {
   "cell_type": "code",
   "execution_count": 136,
   "metadata": {},
   "outputs": [
    {
     "data": {
      "text/plain": [
       "0.9077669902912622"
      ]
     },
     "execution_count": 136,
     "metadata": {},
     "output_type": "execute_result"
    }
   ],
   "source": [
    "rf.fit(train_x,train_y)\n",
    "rf.score(test_x,test_y)"
   ]
  },
  {
   "cell_type": "code",
   "execution_count": 137,
   "metadata": {},
   "outputs": [
    {
     "name": "stdout",
     "output_type": "stream",
     "text": [
      "              precision    recall  f1-score   support\n",
      "\n",
      "        -1.0       0.90      0.91      0.91       102\n",
      "         1.0       0.91      0.90      0.91       104\n",
      "\n",
      "    accuracy                           0.91       206\n",
      "   macro avg       0.91      0.91      0.91       206\n",
      "weighted avg       0.91      0.91      0.91       206\n",
      "\n"
     ]
    }
   ],
   "source": [
    "print(classification_report(test_y,rf.predict(test_x)))"
   ]
  },
  {
   "cell_type": "code",
   "execution_count": 186,
   "metadata": {},
   "outputs": [],
   "source": [
    "ret = (1+(df['Close Price'].pct_change())).dropna().cumprod()"
   ]
  },
  {
   "cell_type": "code",
   "execution_count": 182,
   "metadata": {},
   "outputs": [],
   "source": [
    "import matplotlib.pyplot as plt"
   ]
  },
  {
   "cell_type": "code",
   "execution_count": 188,
   "metadata": {
    "scrolled": true
   },
   "outputs": [
    {
     "data": {
      "text/plain": [
       "[<matplotlib.lines.Line2D at 0x7fa172a9aac8>]"
      ]
     },
     "execution_count": 188,
     "metadata": {},
     "output_type": "execute_result"
    },
    {
     "data": {
      "image/png": "[encoded data removed]",
      "text/plain": [
       "<Figure size 432x288 with 1 Axes>"
      ]
     },
     "metadata": {
      "needs_background": "light"
     },
     "output_type": "display_data"
    }
   ],
   "source": [
    "plt.plot(range(len(ret)),ret)"
   ]
  },
  {
   "cell_type": "code",
   "execution_count": null,
   "metadata": {},
   "outputs": [],
   "source": []
  }
 ],
 "metadata": {
  "kernelspec": {
   "display_name": "Python 3",
   "language": "python",
   "name": "python3"
  },
  "language_info": {
   "codemirror_mode": {
    "name": "ipython",
    "version": 3
   },
   "file_extension": ".py",
   "mimetype": "text/x-python",
   "name": "python",
   "nbconvert_exporter": "python",
   "pygments_lexer": "ipython3",
   "version": "3.6.9"
  }
 },
 "nbformat": 4,
 "nbformat_minor": 4
}

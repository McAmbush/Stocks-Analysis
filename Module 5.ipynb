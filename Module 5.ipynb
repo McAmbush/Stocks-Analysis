{
 "cells": [
  {
   "cell_type": "code",
   "execution_count": 1,
   "metadata": {},
   "outputs": [],
   "source": [
    "import pandas as pd"
   ]
  },
  {
   "cell_type": "code",
   "execution_count": 10,
   "metadata": {},
   "outputs": [],
   "source": [
    "import numpy as np"
   ]
  },
  {
   "cell_type": "code",
   "execution_count": 66,
   "metadata": {},
   "outputs": [],
   "source": [
    "import matplotlib.pyplot as plt"
   ]
  },
  {
   "cell_type": "markdown",
   "metadata": {},
   "source": [
    "## Loaded chosen stock and calculating returns"
   ]
  },
  {
   "cell_type": "code",
   "execution_count": 5,
   "metadata": {},
   "outputs": [],
   "source": [
    "df = pd.read_csv('/home/user/Module1.csv')"
   ]
  },
  {
   "cell_type": "code",
   "execution_count": 6,
   "metadata": {},
   "outputs": [
    {
     "data": {
      "text/html": [
       "<div>\n",
       "<style scoped>\n",
       "    .dataframe tbody tr th:only-of-type {\n",
       "        vertical-align: middle;\n",
       "    }\n",
       "\n",
       "    .dataframe tbody tr th {\n",
       "        vertical-align: top;\n",
       "    }\n",
       "\n",
       "    .dataframe thead th {\n",
       "        text-align: right;\n",
       "    }\n",
       "</style>\n",
       "<table border=\"1\" class=\"dataframe\">\n",
       "  <thead>\n",
       "    <tr style=\"text-align: right;\">\n",
       "      <th></th>\n",
       "      <th>Unnamed: 0</th>\n",
       "      <th>Date</th>\n",
       "      <th>Close Price</th>\n",
       "      <th>Open Price</th>\n",
       "      <th>High Price</th>\n",
       "      <th>Low Price</th>\n",
       "      <th>Total Traded Quantity</th>\n",
       "      <th>Month</th>\n",
       "      <th>Year</th>\n",
       "      <th>temp</th>\n",
       "      <th>vwap</th>\n",
       "      <th>Day_Perc_Change</th>\n",
       "      <th>Trend</th>\n",
       "    </tr>\n",
       "  </thead>\n",
       "  <tbody>\n",
       "    <tr>\n",
       "      <th>0</th>\n",
       "      <td>375</td>\n",
       "      <td>2018-04-30</td>\n",
       "      <td>1018.58</td>\n",
       "      <td>1034.42</td>\n",
       "      <td>1038.37</td>\n",
       "      <td>1018.30</td>\n",
       "      <td>1.72</td>\n",
       "      <td>Apr</td>\n",
       "      <td>2018</td>\n",
       "      <td>Apr-2018</td>\n",
       "      <td>1018.5800</td>\n",
       "      <td>0.000000</td>\n",
       "      <td>Slight or No Change</td>\n",
       "    </tr>\n",
       "    <tr>\n",
       "      <th>1</th>\n",
       "      <td>376</td>\n",
       "      <td>2018-04-27</td>\n",
       "      <td>1031.45</td>\n",
       "      <td>1045.54</td>\n",
       "      <td>1051.69</td>\n",
       "      <td>1027.59</td>\n",
       "      <td>2.04</td>\n",
       "      <td>Apr</td>\n",
       "      <td>2018</td>\n",
       "      <td>Apr-2018</td>\n",
       "      <td>1025.5627</td>\n",
       "      <td>1.263523</td>\n",
       "      <td>Positive</td>\n",
       "    </tr>\n",
       "    <tr>\n",
       "      <th>2</th>\n",
       "      <td>377</td>\n",
       "      <td>2018-04-26</td>\n",
       "      <td>1043.31</td>\n",
       "      <td>1033.22</td>\n",
       "      <td>1052.02</td>\n",
       "      <td>1020.45</td>\n",
       "      <td>2.55</td>\n",
       "      <td>Apr</td>\n",
       "      <td>2018</td>\n",
       "      <td>Apr-2018</td>\n",
       "      <td>1032.7349</td>\n",
       "      <td>1.149845</td>\n",
       "      <td>Positive</td>\n",
       "    </tr>\n",
       "    <tr>\n",
       "      <th>3</th>\n",
       "      <td>378</td>\n",
       "      <td>2018-04-25</td>\n",
       "      <td>1022.99</td>\n",
       "      <td>1029.75</td>\n",
       "      <td>1036.07</td>\n",
       "      <td>1017.01</td>\n",
       "      <td>2.89</td>\n",
       "      <td>Apr</td>\n",
       "      <td>2018</td>\n",
       "      <td>Apr-2018</td>\n",
       "      <td>1029.6737</td>\n",
       "      <td>-1.947653</td>\n",
       "      <td>Negative</td>\n",
       "    </tr>\n",
       "    <tr>\n",
       "      <th>4</th>\n",
       "      <td>379</td>\n",
       "      <td>2018-04-24</td>\n",
       "      <td>1022.64</td>\n",
       "      <td>1059.20</td>\n",
       "      <td>1064.49</td>\n",
       "      <td>1012.86</td>\n",
       "      <td>6.41</td>\n",
       "      <td>Apr</td>\n",
       "      <td>2018</td>\n",
       "      <td>Apr-2018</td>\n",
       "      <td>1026.7855</td>\n",
       "      <td>-0.034213</td>\n",
       "      <td>Slight or No Change</td>\n",
       "    </tr>\n",
       "  </tbody>\n",
       "</table>\n",
       "</div>"
      ],
      "text/plain": [
       "   Unnamed: 0        Date  Close Price  Open Price  High Price  Low Price  \\\n",
       "0         375  2018-04-30      1018.58     1034.42     1038.37    1018.30   \n",
       "1         376  2018-04-27      1031.45     1045.54     1051.69    1027.59   \n",
       "2         377  2018-04-26      1043.31     1033.22     1052.02    1020.45   \n",
       "3         378  2018-04-25      1022.99     1029.75     1036.07    1017.01   \n",
       "4         379  2018-04-24      1022.64     1059.20     1064.49    1012.86   \n",
       "\n",
       "   Total Traded Quantity Month  Year      temp       vwap  Day_Perc_Change  \\\n",
       "0                   1.72   Apr  2018  Apr-2018  1018.5800         0.000000   \n",
       "1                   2.04   Apr  2018  Apr-2018  1025.5627         1.263523   \n",
       "2                   2.55   Apr  2018  Apr-2018  1032.7349         1.149845   \n",
       "3                   2.89   Apr  2018  Apr-2018  1029.6737        -1.947653   \n",
       "4                   6.41   Apr  2018  Apr-2018  1026.7855        -0.034213   \n",
       "\n",
       "                 Trend  \n",
       "0  Slight or No Change  \n",
       "1             Positive  \n",
       "2             Positive  \n",
       "3             Negative  \n",
       "4  Slight or No Change  "
      ]
     },
     "execution_count": 6,
     "metadata": {},
     "output_type": "execute_result"
    }
   ],
   "source": [
    "df.head()"
   ]
  },
  {
   "cell_type": "code",
   "execution_count": 7,
   "metadata": {},
   "outputs": [],
   "source": [
    "dat = dict()"
   ]
  },
  {
   "cell_type": "code",
   "execution_count": 11,
   "metadata": {},
   "outputs": [],
   "source": [
    "dat['meandailyret'] = df['Close Price'].pct_change().dropna().mean()\n",
    "dat['dailyretstd'] = df['Close Price'].pct_change().dropna().std()\n",
    "dat['meanannualret'] = dat['meandailyret']*252\n",
    "dat['annualretstd'] = dat['dailyretstd']*np.sqrt(252)"
   ]
  },
  {
   "cell_type": "code",
   "execution_count": 12,
   "metadata": {},
   "outputs": [
    {
     "data": {
      "text/plain": [
       "{'meandailyret': 0.0005386440707217609,\n",
       " 'dailyretstd': 0.023195986099374243,\n",
       " 'meanannualret': 0.13573830582188376,\n",
       " 'annualretstd': 0.3682248638031326}"
      ]
     },
     "execution_count": 12,
     "metadata": {},
     "output_type": "execute_result"
    }
   ],
   "source": [
    "dat"
   ]
  },
  {
   "cell_type": "markdown",
   "metadata": {},
   "source": [
    "## Loading 5 stocks"
   ]
  },
  {
   "cell_type": "code",
   "execution_count": 139,
   "metadata": {},
   "outputs": [],
   "source": [
    "files = !ls /home/user/Desktop/Stocks"
   ]
  },
  {
   "cell_type": "code",
   "execution_count": 140,
   "metadata": {},
   "outputs": [
    {
     "data": {
      "text/plain": [
       "['APOLLOTYRE.csv', 'JUBLFOOD.csv', 'MARUTI.csv', 'MINDTREE.csv', 'RAYMOND.csv']"
      ]
     },
     "execution_count": 140,
     "metadata": {},
     "output_type": "execute_result"
    }
   ],
   "source": [
    "files"
   ]
  },
  {
   "cell_type": "code",
   "execution_count": 141,
   "metadata": {},
   "outputs": [],
   "source": [
    "names = []\n",
    "close = []\n",
    "mdr = []\n",
    "mds = []\n",
    "mar = []\n",
    "mas = []"
   ]
  },
  {
   "cell_type": "code",
   "execution_count": 142,
   "metadata": {},
   "outputs": [],
   "source": [
    "for i in files:    \n",
    "    df = pd.read_csv('/home/user/Desktop/Stocks/'+i)\n",
    "    names.append(i.split('.')[0])\n",
    "    close.append(df['Close Price'])\n",
    "    mdr.append(df['Close Price'].pct_change().dropna().mean())\n",
    "    mds.append(df['Close Price'].pct_change().dropna().std())\n",
    "    mar.append(mdr[-1]*252)\n",
    "    mas.append(mds[-1]*np.sqrt(252))"
   ]
  },
  {
   "cell_type": "code",
   "execution_count": 143,
   "metadata": {},
   "outputs": [],
   "source": [
    "returns = pd.DataFrame()\n",
    "returns['Stock'] = names\n",
    "returns['Mean Daily Returns'] = mdr\n",
    "returns['Daily std dev'] = mds\n",
    "returns['Mean Annual Returns'] = mar\n",
    "returns['Annual std dev'] = mas"
   ]
  },
  {
   "cell_type": "code",
   "execution_count": 144,
   "metadata": {},
   "outputs": [
    {
     "data": {
      "text/html": [
       "<div>\n",
       "<style scoped>\n",
       "    .dataframe tbody tr th:only-of-type {\n",
       "        vertical-align: middle;\n",
       "    }\n",
       "\n",
       "    .dataframe tbody tr th {\n",
       "        vertical-align: top;\n",
       "    }\n",
       "\n",
       "    .dataframe thead th {\n",
       "        text-align: right;\n",
       "    }\n",
       "</style>\n",
       "<table border=\"1\" class=\"dataframe\">\n",
       "  <thead>\n",
       "    <tr style=\"text-align: right;\">\n",
       "      <th></th>\n",
       "      <th>Stock</th>\n",
       "      <th>Mean Daily Returns</th>\n",
       "      <th>Daily std dev</th>\n",
       "      <th>Mean Annual Returns</th>\n",
       "      <th>Annual std dev</th>\n",
       "    </tr>\n",
       "  </thead>\n",
       "  <tbody>\n",
       "    <tr>\n",
       "      <th>0</th>\n",
       "      <td>APOLLOTYRE</td>\n",
       "      <td>-0.000255</td>\n",
       "      <td>0.019556</td>\n",
       "      <td>-0.064303</td>\n",
       "      <td>0.310445</td>\n",
       "    </tr>\n",
       "    <tr>\n",
       "      <th>1</th>\n",
       "      <td>JUBLFOOD</td>\n",
       "      <td>0.001024</td>\n",
       "      <td>0.031539</td>\n",
       "      <td>0.258138</td>\n",
       "      <td>0.500667</td>\n",
       "    </tr>\n",
       "    <tr>\n",
       "      <th>2</th>\n",
       "      <td>MARUTI</td>\n",
       "      <td>0.000016</td>\n",
       "      <td>0.014174</td>\n",
       "      <td>0.003921</td>\n",
       "      <td>0.225002</td>\n",
       "    </tr>\n",
       "    <tr>\n",
       "      <th>3</th>\n",
       "      <td>MINDTREE</td>\n",
       "      <td>0.001558</td>\n",
       "      <td>0.021512</td>\n",
       "      <td>0.392570</td>\n",
       "      <td>0.341485</td>\n",
       "    </tr>\n",
       "    <tr>\n",
       "      <th>4</th>\n",
       "      <td>RAYMOND</td>\n",
       "      <td>0.000278</td>\n",
       "      <td>0.022919</td>\n",
       "      <td>0.070021</td>\n",
       "      <td>0.363834</td>\n",
       "    </tr>\n",
       "  </tbody>\n",
       "</table>\n",
       "</div>"
      ],
      "text/plain": [
       "        Stock  Mean Daily Returns  Daily std dev  Mean Annual Returns  \\\n",
       "0  APOLLOTYRE           -0.000255       0.019556            -0.064303   \n",
       "1    JUBLFOOD            0.001024       0.031539             0.258138   \n",
       "2      MARUTI            0.000016       0.014174             0.003921   \n",
       "3    MINDTREE            0.001558       0.021512             0.392570   \n",
       "4     RAYMOND            0.000278       0.022919             0.070021   \n",
       "\n",
       "   Annual std dev  \n",
       "0        0.310445  \n",
       "1        0.500667  \n",
       "2        0.225002  \n",
       "3        0.341485  \n",
       "4        0.363834  "
      ]
     },
     "execution_count": 144,
     "metadata": {},
     "output_type": "execute_result"
    }
   ],
   "source": [
    "returns"
   ]
  },
  {
   "cell_type": "markdown",
   "metadata": {},
   "source": [
    "## Calculating volatility and returns"
   ]
  },
  {
   "cell_type": "code",
   "execution_count": 145,
   "metadata": {},
   "outputs": [],
   "source": [
    "pf = pd.DataFrame()"
   ]
  },
  {
   "cell_type": "code",
   "execution_count": 146,
   "metadata": {},
   "outputs": [],
   "source": [
    "for i,j in enumerate(close):\n",
    "    pf[names[i]] = j"
   ]
  },
  {
   "cell_type": "code",
   "execution_count": 147,
   "metadata": {},
   "outputs": [],
   "source": [
    "wts = np.array([0.2,0.2,0.2,0.2,0.2])"
   ]
  },
  {
   "cell_type": "code",
   "execution_count": 148,
   "metadata": {},
   "outputs": [
    {
     "data": {
      "text/plain": [
       "array([0.2, 0.2, 0.2, 0.2, 0.2])"
      ]
     },
     "execution_count": 148,
     "metadata": {},
     "output_type": "execute_result"
    }
   ],
   "source": [
    "wts"
   ]
  },
  {
   "cell_type": "code",
   "execution_count": 149,
   "metadata": {},
   "outputs": [],
   "source": [
    "volatility = np.sqrt(np.dot(wts.T,np.dot(pf.pct_change().cov(),wts)*np.sqrt(252)))"
   ]
  },
  {
   "cell_type": "code",
   "execution_count": 150,
   "metadata": {},
   "outputs": [],
   "source": [
    "annual_ret = np.sum(pf.pct_change().mean() * wts) * 252"
   ]
  },
  {
   "cell_type": "code",
   "execution_count": 151,
   "metadata": {},
   "outputs": [
    {
     "name": "stdout",
     "output_type": "stream",
     "text": [
      "Volatility = 0.050059523397023506\n",
      "Annual Returns = 0.13519942614083183\n"
     ]
    }
   ],
   "source": [
    "print(\"Volatility = {}\\nAnnual Returns = {}\".format(volatility,annual_ret))"
   ]
  },
  {
   "cell_type": "code",
   "execution_count": 152,
   "metadata": {},
   "outputs": [
    {
     "name": "stdout",
     "output_type": "stream",
     "text": [
      "Sharpe Ratio = 2.7007733387423873\n"
     ]
    }
   ],
   "source": [
    "print('Sharpe Ratio = {}'.format(annual_ret/volatility))"
   ]
  },
  {
   "cell_type": "markdown",
   "metadata": {},
   "source": [
    "## calculating volatility and returns for random weights"
   ]
  },
  {
   "cell_type": "code",
   "execution_count": 153,
   "metadata": {},
   "outputs": [],
   "source": [
    "op = np.empty((3,1000))\n",
    "for i in range(1000):\n",
    "    wts = np.random.random(5)\n",
    "    wts = wts/np.sum(wts)\n",
    "    ret =  np.sum(pf.pct_change().mean() * wts) * 252\n",
    "    std = np.sqrt(np.dot(wts.T,np.dot(pf.pct_change().cov(),wts)*np.sqrt(252)))\n",
    "    sharpe = ret/std\n",
    "    op[0,i] = ret\n",
    "    op[1,i] = std\n",
    "    op[2,i] = sharpe"
   ]
  },
  {
   "cell_type": "code",
   "execution_count": 155,
   "metadata": {},
   "outputs": [],
   "source": [
    "dat = pd.DataFrame()\n",
    "dat['returns'] = op[0]\n",
    "dat['volatility'] = op[1]\n",
    "dat['sharpe'] = op[2]"
   ]
  },
  {
   "cell_type": "code",
   "execution_count": 157,
   "metadata": {},
   "outputs": [
    {
     "data": {
      "text/html": [
       "<div>\n",
       "<style scoped>\n",
       "    .dataframe tbody tr th:only-of-type {\n",
       "        vertical-align: middle;\n",
       "    }\n",
       "\n",
       "    .dataframe tbody tr th {\n",
       "        vertical-align: top;\n",
       "    }\n",
       "\n",
       "    .dataframe thead th {\n",
       "        text-align: right;\n",
       "    }\n",
       "</style>\n",
       "<table border=\"1\" class=\"dataframe\">\n",
       "  <thead>\n",
       "    <tr style=\"text-align: right;\">\n",
       "      <th></th>\n",
       "      <th>returns</th>\n",
       "      <th>volatility</th>\n",
       "      <th>sharpe</th>\n",
       "    </tr>\n",
       "  </thead>\n",
       "  <tbody>\n",
       "    <tr>\n",
       "      <th>0</th>\n",
       "      <td>0.124539</td>\n",
       "      <td>0.054697</td>\n",
       "      <td>2.276905</td>\n",
       "    </tr>\n",
       "    <tr>\n",
       "      <th>1</th>\n",
       "      <td>0.103432</td>\n",
       "      <td>0.048021</td>\n",
       "      <td>2.153881</td>\n",
       "    </tr>\n",
       "    <tr>\n",
       "      <th>2</th>\n",
       "      <td>0.174797</td>\n",
       "      <td>0.058485</td>\n",
       "      <td>2.988745</td>\n",
       "    </tr>\n",
       "    <tr>\n",
       "      <th>3</th>\n",
       "      <td>0.107238</td>\n",
       "      <td>0.049954</td>\n",
       "      <td>2.146741</td>\n",
       "    </tr>\n",
       "    <tr>\n",
       "      <th>4</th>\n",
       "      <td>0.155656</td>\n",
       "      <td>0.050267</td>\n",
       "      <td>3.096578</td>\n",
       "    </tr>\n",
       "  </tbody>\n",
       "</table>\n",
       "</div>"
      ],
      "text/plain": [
       "    returns  volatility    sharpe\n",
       "0  0.124539    0.054697  2.276905\n",
       "1  0.103432    0.048021  2.153881\n",
       "2  0.174797    0.058485  2.988745\n",
       "3  0.107238    0.049954  2.146741\n",
       "4  0.155656    0.050267  3.096578"
      ]
     },
     "execution_count": 157,
     "metadata": {},
     "output_type": "execute_result"
    }
   ],
   "source": [
    "dat.head()"
   ]
  },
  {
   "cell_type": "markdown",
   "metadata": {},
   "source": [
    "## Plotting the values and marking highest sharpe ratio and lowest volatility"
   ]
  },
  {
   "cell_type": "code",
   "execution_count": 159,
   "metadata": {},
   "outputs": [],
   "source": [
    "maxm = dat.iloc[dat['sharpe'].idxmax()]\n",
    "minm = dat.iloc[dat['volatility'].idxmin()]"
   ]
  },
  {
   "cell_type": "code",
   "execution_count": 168,
   "metadata": {
    "scrolled": true
   },
   "outputs": [
    {
     "data": {
      "text/plain": [
       "<matplotlib.legend.Legend at 0x7fd23caa8ba8>"
      ]
     },
     "execution_count": 168,
     "metadata": {},
     "output_type": "execute_result"
    },
    {
     "data": {
      "image/png": "[encoded data removed]",
      "text/plain": [
       "<Figure size 576x360 with 2 Axes>"
      ]
     },
     "metadata": {
      "needs_background": "light"
     },
     "output_type": "display_data"
    }
   ],
   "source": [
    "plt.figure(figsize = (8,5))\n",
    "plt.scatter(dat['volatility'],dat['returns'],c = dat['sharpe'])\n",
    "plt.xlabel('Volatility')\n",
    "plt.ylabel('Returns')\n",
    "plt.colorbar()\n",
    "plt.scatter(maxm['volatility'],maxm['returns'],color = 'r',s = 500,marker = (5,1,0),label = 'Max sharpe')\n",
    "plt.scatter(minm['volatility'],minm['returns'],color = 'b',s = 500,marker = (5,1,0),label = 'Min volatility')\n",
    "plt.legend()"
   ]
  },
  {
   "cell_type": "code",
   "execution_count": null,
   "metadata": {},
   "outputs": [],
   "source": []
  }
 ],
 "metadata": {
  "kernelspec": {
   "display_name": "Python 3",
   "language": "python",
   "name": "python3"
  },
  "language_info": {
   "codemirror_mode": {
    "name": "ipython",
    "version": 3
   },
   "file_extension": ".py",
   "mimetype": "text/x-python",
   "name": "python",
   "nbconvert_exporter": "python",
   "pygments_lexer": "ipython3",
   "version": "3.6.9"
  }
 },
 "nbformat": 4,
 "nbformat_minor": 4
}

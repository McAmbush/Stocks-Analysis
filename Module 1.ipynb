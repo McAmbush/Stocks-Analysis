{
 "cells": [
  {
   "cell_type": "code",
   "execution_count": 1,
   "metadata": {},
   "outputs": [],
   "source": [
    "import pandas as pd"
   ]
  },
  {
   "cell_type": "code",
   "execution_count": 18,
   "metadata": {},
   "outputs": [],
   "source": [
    "from datetime import datetime,timedelta"
   ]
  },
  {
   "cell_type": "markdown",
   "metadata": {},
   "source": [
    "## Reading The CSV"
   ]
  },
  {
   "cell_type": "code",
   "execution_count": 2,
   "metadata": {},
   "outputs": [],
   "source": [
    "df = pd.read_csv('/home/user/Downloads/GOOG.csv')"
   ]
  },
  {
   "cell_type": "code",
   "execution_count": 3,
   "metadata": {},
   "outputs": [
    {
     "data": {
      "text/html": [
       "<div>\n",
       "<style scoped>\n",
       "    .dataframe tbody tr th:only-of-type {\n",
       "        vertical-align: middle;\n",
       "    }\n",
       "\n",
       "    .dataframe tbody tr th {\n",
       "        vertical-align: top;\n",
       "    }\n",
       "\n",
       "    .dataframe thead th {\n",
       "        text-align: right;\n",
       "    }\n",
       "</style>\n",
       "<table border=\"1\" class=\"dataframe\">\n",
       "  <thead>\n",
       "    <tr style=\"text-align: right;\">\n",
       "      <th></th>\n",
       "      <th>Date</th>\n",
       "      <th>Close Price</th>\n",
       "      <th>Open Price</th>\n",
       "      <th>High Price</th>\n",
       "      <th>Low Price</th>\n",
       "      <th>Total Traded Quantity</th>\n",
       "    </tr>\n",
       "  </thead>\n",
       "  <tbody>\n",
       "    <tr>\n",
       "      <td>0</td>\n",
       "      <td>Oct 24, 2019</td>\n",
       "      <td>1,259.11</td>\n",
       "      <td>1,259.11</td>\n",
       "      <td>1,262.90</td>\n",
       "      <td>1,252.35</td>\n",
       "      <td>1.01M</td>\n",
       "    </tr>\n",
       "    <tr>\n",
       "      <td>1</td>\n",
       "      <td>Oct 23, 2019</td>\n",
       "      <td>1,257.63</td>\n",
       "      <td>1,240.21</td>\n",
       "      <td>1,258.04</td>\n",
       "      <td>1,240.21</td>\n",
       "      <td>1.18M</td>\n",
       "    </tr>\n",
       "    <tr>\n",
       "      <td>2</td>\n",
       "      <td>Oct 22, 2019</td>\n",
       "      <td>1,241.20</td>\n",
       "      <td>1,244.48</td>\n",
       "      <td>1,248.73</td>\n",
       "      <td>1,239.85</td>\n",
       "      <td>1.28M</td>\n",
       "    </tr>\n",
       "    <tr>\n",
       "      <td>3</td>\n",
       "      <td>Oct 21, 2019</td>\n",
       "      <td>1,244.28</td>\n",
       "      <td>1,248.70</td>\n",
       "      <td>1,253.51</td>\n",
       "      <td>1,239.99</td>\n",
       "      <td>1.03M</td>\n",
       "    </tr>\n",
       "    <tr>\n",
       "      <td>4</td>\n",
       "      <td>Oct 18, 2019</td>\n",
       "      <td>1,244.41</td>\n",
       "      <td>1,254.69</td>\n",
       "      <td>1,258.11</td>\n",
       "      <td>1,240.14</td>\n",
       "      <td>1.58M</td>\n",
       "    </tr>\n",
       "  </tbody>\n",
       "</table>\n",
       "</div>"
      ],
      "text/plain": [
       "           Date Close Price Open Price High Price Low Price  \\\n",
       "0  Oct 24, 2019    1,259.11   1,259.11   1,262.90  1,252.35   \n",
       "1  Oct 23, 2019    1,257.63   1,240.21   1,258.04  1,240.21   \n",
       "2  Oct 22, 2019    1,241.20   1,244.48   1,248.73  1,239.85   \n",
       "3  Oct 21, 2019    1,244.28   1,248.70   1,253.51  1,239.99   \n",
       "4  Oct 18, 2019    1,244.41   1,254.69   1,258.11  1,240.14   \n",
       "\n",
       "  Total Traded Quantity  \n",
       "0                 1.01M  \n",
       "1                 1.18M  \n",
       "2                 1.28M  \n",
       "3                 1.03M  \n",
       "4                 1.58M  "
      ]
     },
     "execution_count": 3,
     "metadata": {},
     "output_type": "execute_result"
    }
   ],
   "source": [
    "df.head()"
   ]
  },
  {
   "cell_type": "code",
   "execution_count": 4,
   "metadata": {
    "scrolled": true
   },
   "outputs": [
    {
     "data": {
      "text/plain": [
       "Date                     0\n",
       "Close Price              0\n",
       "Open Price               0\n",
       "High Price               0\n",
       "Low Price                0\n",
       "Total Traded Quantity    0\n",
       "dtype: int64"
      ]
     },
     "execution_count": 4,
     "metadata": {},
     "output_type": "execute_result"
    }
   ],
   "source": [
    "df.isna().sum()"
   ]
  },
  {
   "cell_type": "code",
   "execution_count": 5,
   "metadata": {},
   "outputs": [
    {
     "data": {
      "text/plain": [
       "(503, 6)"
      ]
     },
     "execution_count": 5,
     "metadata": {},
     "output_type": "execute_result"
    }
   ],
   "source": [
    "df.shape"
   ]
  },
  {
   "cell_type": "code",
   "execution_count": 6,
   "metadata": {},
   "outputs": [
    {
     "data": {
      "text/html": [
       "<div>\n",
       "<style scoped>\n",
       "    .dataframe tbody tr th:only-of-type {\n",
       "        vertical-align: middle;\n",
       "    }\n",
       "\n",
       "    .dataframe tbody tr th {\n",
       "        vertical-align: top;\n",
       "    }\n",
       "\n",
       "    .dataframe thead th {\n",
       "        text-align: right;\n",
       "    }\n",
       "</style>\n",
       "<table border=\"1\" class=\"dataframe\">\n",
       "  <thead>\n",
       "    <tr style=\"text-align: right;\">\n",
       "      <th></th>\n",
       "      <th>Date</th>\n",
       "      <th>Close Price</th>\n",
       "      <th>Open Price</th>\n",
       "      <th>High Price</th>\n",
       "      <th>Low Price</th>\n",
       "      <th>Total Traded Quantity</th>\n",
       "    </tr>\n",
       "  </thead>\n",
       "  <tbody>\n",
       "    <tr>\n",
       "      <td>count</td>\n",
       "      <td>503</td>\n",
       "      <td>503</td>\n",
       "      <td>503</td>\n",
       "      <td>503</td>\n",
       "      <td>503</td>\n",
       "      <td>503</td>\n",
       "    </tr>\n",
       "    <tr>\n",
       "      <td>unique</td>\n",
       "      <td>503</td>\n",
       "      <td>496</td>\n",
       "      <td>494</td>\n",
       "      <td>492</td>\n",
       "      <td>492</td>\n",
       "      <td>229</td>\n",
       "    </tr>\n",
       "    <tr>\n",
       "      <td>top</td>\n",
       "      <td>Mar 19, 2019</td>\n",
       "      <td>1,145.34</td>\n",
       "      <td>1,172.00</td>\n",
       "      <td>1,088.00</td>\n",
       "      <td>1,042.00</td>\n",
       "      <td>1.77M</td>\n",
       "    </tr>\n",
       "    <tr>\n",
       "      <td>freq</td>\n",
       "      <td>1</td>\n",
       "      <td>2</td>\n",
       "      <td>2</td>\n",
       "      <td>3</td>\n",
       "      <td>2</td>\n",
       "      <td>10</td>\n",
       "    </tr>\n",
       "  </tbody>\n",
       "</table>\n",
       "</div>"
      ],
      "text/plain": [
       "                Date Close Price Open Price High Price Low Price  \\\n",
       "count            503         503        503        503       503   \n",
       "unique           503         496        494        492       492   \n",
       "top     Mar 19, 2019    1,145.34   1,172.00   1,088.00  1,042.00   \n",
       "freq               1           2          2          3         2   \n",
       "\n",
       "       Total Traded Quantity  \n",
       "count                    503  \n",
       "unique                   229  \n",
       "top                    1.77M  \n",
       "freq                      10  "
      ]
     },
     "execution_count": 6,
     "metadata": {},
     "output_type": "execute_result"
    }
   ],
   "source": [
    "df.describe()"
   ]
  },
  {
   "cell_type": "code",
   "execution_count": 7,
   "metadata": {},
   "outputs": [
    {
     "data": {
      "text/plain": [
       "Index(['Date', 'Close Price', 'Open Price', 'High Price', 'Low Price',\n",
       "       'Total Traded Quantity'],\n",
       "      dtype='object')"
      ]
     },
     "execution_count": 7,
     "metadata": {},
     "output_type": "execute_result"
    }
   ],
   "source": [
    "df.columns"
   ]
  },
  {
   "cell_type": "markdown",
   "metadata": {},
   "source": [
    "## Cleaning Prices and Converting to Float"
   ]
  },
  {
   "cell_type": "code",
   "execution_count": 8,
   "metadata": {},
   "outputs": [],
   "source": [
    "df2 = df.copy()"
   ]
  },
  {
   "cell_type": "code",
   "execution_count": 9,
   "metadata": {
    "scrolled": true
   },
   "outputs": [],
   "source": [
    "for i in ['Close Price', 'Open Price', 'High Price', 'Low Price']:\n",
    "    df2[i] = df2[i].map(lambda x: ''.join(x.split(',')))"
   ]
  },
  {
   "cell_type": "code",
   "execution_count": 10,
   "metadata": {},
   "outputs": [],
   "source": [
    "df2['Total Traded Quantity'] = df2['Total Traded Quantity'].map(lambda x: (x.split('M')[0]) if 'M' in x else x)"
   ]
  },
  {
   "cell_type": "code",
   "execution_count": 11,
   "metadata": {},
   "outputs": [],
   "source": [
    "df2['Total Traded Quantity'] = df2['Total Traded Quantity'].map(lambda x: 0.001*float(x.split('K')[0]) if 'K' in x else x)"
   ]
  },
  {
   "cell_type": "code",
   "execution_count": 12,
   "metadata": {},
   "outputs": [],
   "source": [
    "for i in ['Close Price', 'Open Price', 'High Price', 'Low Price','Total Traded Quantity']:\n",
    "    df2[i] = df2[i].astype('float32')"
   ]
  },
  {
   "cell_type": "code",
   "execution_count": 13,
   "metadata": {},
   "outputs": [
    {
     "data": {
      "text/plain": [
       "Date                      object\n",
       "Close Price              float32\n",
       "Open Price               float32\n",
       "High Price               float32\n",
       "Low Price                float32\n",
       "Total Traded Quantity    float32\n",
       "dtype: object"
      ]
     },
     "execution_count": 13,
     "metadata": {},
     "output_type": "execute_result"
    }
   ],
   "source": [
    "df2.dtypes"
   ]
  },
  {
   "cell_type": "markdown",
   "metadata": {},
   "source": [
    "## Analyzing Prices"
   ]
  },
  {
   "cell_type": "code",
   "execution_count": 14,
   "metadata": {
    "scrolled": true
   },
   "outputs": [
    {
     "data": {
      "text/html": [
       "<div>\n",
       "<style scoped>\n",
       "    .dataframe tbody tr th:only-of-type {\n",
       "        vertical-align: middle;\n",
       "    }\n",
       "\n",
       "    .dataframe tbody tr th {\n",
       "        vertical-align: top;\n",
       "    }\n",
       "\n",
       "    .dataframe thead th {\n",
       "        text-align: right;\n",
       "    }\n",
       "</style>\n",
       "<table border=\"1\" class=\"dataframe\">\n",
       "  <thead>\n",
       "    <tr style=\"text-align: right;\">\n",
       "      <th></th>\n",
       "      <th>Close Price</th>\n",
       "      <th>Open Price</th>\n",
       "      <th>High Price</th>\n",
       "      <th>Low Price</th>\n",
       "      <th>Total Traded Quantity</th>\n",
       "    </tr>\n",
       "  </thead>\n",
       "  <tbody>\n",
       "    <tr>\n",
       "      <td>count</td>\n",
       "      <td>503.000000</td>\n",
       "      <td>503.000000</td>\n",
       "      <td>503.000000</td>\n",
       "      <td>503.000000</td>\n",
       "      <td>503.000000</td>\n",
       "    </tr>\n",
       "    <tr>\n",
       "      <td>mean</td>\n",
       "      <td>1132.038818</td>\n",
       "      <td>1131.834473</td>\n",
       "      <td>1142.713989</td>\n",
       "      <td>1120.766113</td>\n",
       "      <td>1.795025</td>\n",
       "    </tr>\n",
       "    <tr>\n",
       "      <td>std</td>\n",
       "      <td>70.086967</td>\n",
       "      <td>69.720551</td>\n",
       "      <td>68.474480</td>\n",
       "      <td>71.023315</td>\n",
       "      <td>0.850383</td>\n",
       "    </tr>\n",
       "    <tr>\n",
       "      <td>min</td>\n",
       "      <td>984.669983</td>\n",
       "      <td>984.320007</td>\n",
       "      <td>994.429993</td>\n",
       "      <td>977.659973</td>\n",
       "      <td>0.668240</td>\n",
       "    </tr>\n",
       "    <tr>\n",
       "      <td>25%</td>\n",
       "      <td>1073.645020</td>\n",
       "      <td>1073.960022</td>\n",
       "      <td>1084.984985</td>\n",
       "      <td>1062.375000</td>\n",
       "      <td>1.270000</td>\n",
       "    </tr>\n",
       "    <tr>\n",
       "      <td>50%</td>\n",
       "      <td>1128.630005</td>\n",
       "      <td>1130.000000</td>\n",
       "      <td>1139.300049</td>\n",
       "      <td>1116.790039</td>\n",
       "      <td>1.580000</td>\n",
       "    </tr>\n",
       "    <tr>\n",
       "      <td>75%</td>\n",
       "      <td>1189.914978</td>\n",
       "      <td>1188.000000</td>\n",
       "      <td>1199.089966</td>\n",
       "      <td>1174.924988</td>\n",
       "      <td>2.030000</td>\n",
       "    </tr>\n",
       "    <tr>\n",
       "      <td>max</td>\n",
       "      <td>1296.199951</td>\n",
       "      <td>1289.119995</td>\n",
       "      <td>1296.969971</td>\n",
       "      <td>1271.709961</td>\n",
       "      <td>6.660000</td>\n",
       "    </tr>\n",
       "  </tbody>\n",
       "</table>\n",
       "</div>"
      ],
      "text/plain": [
       "       Close Price   Open Price   High Price    Low Price  \\\n",
       "count   503.000000   503.000000   503.000000   503.000000   \n",
       "mean   1132.038818  1131.834473  1142.713989  1120.766113   \n",
       "std      70.086967    69.720551    68.474480    71.023315   \n",
       "min     984.669983   984.320007   994.429993   977.659973   \n",
       "25%    1073.645020  1073.960022  1084.984985  1062.375000   \n",
       "50%    1128.630005  1130.000000  1139.300049  1116.790039   \n",
       "75%    1189.914978  1188.000000  1199.089966  1174.924988   \n",
       "max    1296.199951  1289.119995  1296.969971  1271.709961   \n",
       "\n",
       "       Total Traded Quantity  \n",
       "count             503.000000  \n",
       "mean                1.795025  \n",
       "std                 0.850383  \n",
       "min                 0.668240  \n",
       "25%                 1.270000  \n",
       "50%                 1.580000  \n",
       "75%                 2.030000  \n",
       "max                 6.660000  "
      ]
     },
     "execution_count": 14,
     "metadata": {},
     "output_type": "execute_result"
    }
   ],
   "source": [
    "df2.describe()"
   ]
  },
  {
   "cell_type": "markdown",
   "metadata": {},
   "source": [
    "## Converting Dates to Datetime"
   ]
  },
  {
   "cell_type": "code",
   "execution_count": 15,
   "metadata": {},
   "outputs": [],
   "source": [
    "df2.Date = pd.to_datetime(df2.Date)"
   ]
  },
  {
   "cell_type": "code",
   "execution_count": 19,
   "metadata": {},
   "outputs": [],
   "source": [
    "prev = df2.Date[0]-timedelta(90)"
   ]
  },
  {
   "cell_type": "code",
   "execution_count": 20,
   "metadata": {},
   "outputs": [
    {
     "data": {
      "text/plain": [
       "Timestamp('2019-07-26 00:00:00')"
      ]
     },
     "execution_count": 20,
     "metadata": {},
     "output_type": "execute_result"
    }
   ],
   "source": [
    "prev"
   ]
  },
  {
   "cell_type": "code",
   "execution_count": 21,
   "metadata": {},
   "outputs": [],
   "source": [
    "dat = df2[df2.Date>=prev]"
   ]
  },
  {
   "cell_type": "code",
   "execution_count": 22,
   "metadata": {},
   "outputs": [
    {
     "name": "stdout",
     "output_type": "stream",
     "text": [
      "Last 90 Days:\n",
      "Max Price =  1259.11 \n",
      "Min Price =  1153.58 \n",
      "Mean Price =  1209.1167\n"
     ]
    }
   ],
   "source": [
    "print('Last 90 Days:\\nMax Price = ',dat['Close Price'].max(),'\\nMin Price = ',dat['Close Price'].min(),'\\nMean Price = ',dat['Close Price'].mean())"
   ]
  },
  {
   "cell_type": "markdown",
   "metadata": {},
   "source": [
    "## Subtracting Minimum Date From Maximum Date:"
   ]
  },
  {
   "cell_type": "code",
   "execution_count": 23,
   "metadata": {
    "scrolled": true
   },
   "outputs": [
    {
     "data": {
      "text/plain": [
       "Timedelta('-729 days +00:00:00')"
      ]
     },
     "execution_count": 23,
     "metadata": {},
     "output_type": "execute_result"
    }
   ],
   "source": [
    "df2.Date.iloc[-1] - df2.Date[0]"
   ]
  },
  {
   "cell_type": "code",
   "execution_count": 24,
   "metadata": {
    "scrolled": true
   },
   "outputs": [],
   "source": [
    "df2['Month'] = df2.Date.map(lambda x: x.strftime('%b'))"
   ]
  },
  {
   "cell_type": "code",
   "execution_count": 25,
   "metadata": {},
   "outputs": [],
   "source": [
    "df2['Year'] = df2.Date.map(lambda x: x.strftime('%Y'))"
   ]
  },
  {
   "cell_type": "code",
   "execution_count": 26,
   "metadata": {},
   "outputs": [],
   "source": [
    "df2['temp'] = df2['Month']+'-'+df2['Year']"
   ]
  },
  {
   "cell_type": "markdown",
   "metadata": {},
   "source": [
    "## Calculating Monthly VWAPs"
   ]
  },
  {
   "cell_type": "code",
   "execution_count": 27,
   "metadata": {},
   "outputs": [],
   "source": [
    "vwap = pd.DataFrame()"
   ]
  },
  {
   "cell_type": "code",
   "execution_count": 28,
   "metadata": {},
   "outputs": [],
   "source": [
    "def calc(df):\n",
    "    p = df['Close Price'].values\n",
    "    v = df['Total Traded Quantity'].values\n",
    "    return df.assign(vwap=(p*v).cumsum()/v.cumsum())"
   ]
  },
  {
   "cell_type": "code",
   "execution_count": 29,
   "metadata": {},
   "outputs": [
    {
     "name": "stderr",
     "output_type": "stream",
     "text": [
      "/home/user/.local/lib/python3.6/site-packages/ipykernel_launcher.py:1: FutureWarning: Interpreting tuple 'by' as a list of keys, rather than a single key. Use 'by=[...]' instead of 'by=(...)'. In the future, a tuple will always mean a single key.\n",
      "  \"\"\"Entry point for launching an IPython kernel.\n"
     ]
    }
   ],
   "source": [
    "df3 = df2.groupby(('Month','Year'),group_keys=False).apply(calc)"
   ]
  },
  {
   "cell_type": "code",
   "execution_count": 32,
   "metadata": {
    "scrolled": true
   },
   "outputs": [],
   "source": [
    "val = df3.temp"
   ]
  },
  {
   "cell_type": "code",
   "execution_count": 43,
   "metadata": {},
   "outputs": [],
   "source": [
    "vwap['Date'] = val.unique()"
   ]
  },
  {
   "cell_type": "code",
   "execution_count": 49,
   "metadata": {},
   "outputs": [],
   "source": [
    "li = []"
   ]
  },
  {
   "cell_type": "code",
   "execution_count": 50,
   "metadata": {
    "scrolled": true
   },
   "outputs": [],
   "source": [
    "for i in vwap.Date:\n",
    "    li.append((df3[df3['temp']==i]['vwap'].sum())/len((df3[df3['temp']==i]['vwap'])))"
   ]
  },
  {
   "cell_type": "code",
   "execution_count": 51,
   "metadata": {},
   "outputs": [],
   "source": [
    "vwap['vwap'] = li"
   ]
  },
  {
   "cell_type": "code",
   "execution_count": 52,
   "metadata": {},
   "outputs": [
    {
     "data": {
      "text/html": [
       "<div>\n",
       "<style scoped>\n",
       "    .dataframe tbody tr th:only-of-type {\n",
       "        vertical-align: middle;\n",
       "    }\n",
       "\n",
       "    .dataframe tbody tr th {\n",
       "        vertical-align: top;\n",
       "    }\n",
       "\n",
       "    .dataframe thead th {\n",
       "        text-align: right;\n",
       "    }\n",
       "</style>\n",
       "<table border=\"1\" class=\"dataframe\">\n",
       "  <thead>\n",
       "    <tr style=\"text-align: right;\">\n",
       "      <th></th>\n",
       "      <th>Date</th>\n",
       "      <th>vwap</th>\n",
       "    </tr>\n",
       "  </thead>\n",
       "  <tbody>\n",
       "    <tr>\n",
       "      <td>0</td>\n",
       "      <td>Apr-2018</td>\n",
       "      <td>1039.895740</td>\n",
       "    </tr>\n",
       "    <tr>\n",
       "      <td>1</td>\n",
       "      <td>Apr-2019</td>\n",
       "      <td>1238.399554</td>\n",
       "    </tr>\n",
       "    <tr>\n",
       "      <td>2</td>\n",
       "      <td>Aug-2018</td>\n",
       "      <td>1241.184528</td>\n",
       "    </tr>\n",
       "    <tr>\n",
       "      <td>3</td>\n",
       "      <td>Aug-2019</td>\n",
       "      <td>1180.048118</td>\n",
       "    </tr>\n",
       "    <tr>\n",
       "      <td>4</td>\n",
       "      <td>Dec-2017</td>\n",
       "      <td>1061.661523</td>\n",
       "    </tr>\n",
       "    <tr>\n",
       "      <td>5</td>\n",
       "      <td>Dec-2018</td>\n",
       "      <td>1034.177118</td>\n",
       "    </tr>\n",
       "    <tr>\n",
       "      <td>6</td>\n",
       "      <td>Feb-2018</td>\n",
       "      <td>1100.108655</td>\n",
       "    </tr>\n",
       "    <tr>\n",
       "      <td>7</td>\n",
       "      <td>Feb-2019</td>\n",
       "      <td>1121.357011</td>\n",
       "    </tr>\n",
       "    <tr>\n",
       "      <td>8</td>\n",
       "      <td>Jan-2018</td>\n",
       "      <td>1167.442522</td>\n",
       "    </tr>\n",
       "    <tr>\n",
       "      <td>9</td>\n",
       "      <td>Jan-2019</td>\n",
       "      <td>1094.331752</td>\n",
       "    </tr>\n",
       "    <tr>\n",
       "      <td>10</td>\n",
       "      <td>Jul-2018</td>\n",
       "      <td>1235.171968</td>\n",
       "    </tr>\n",
       "    <tr>\n",
       "      <td>11</td>\n",
       "      <td>Jul-2019</td>\n",
       "      <td>1195.740234</td>\n",
       "    </tr>\n",
       "    <tr>\n",
       "      <td>12</td>\n",
       "      <td>Jun-2018</td>\n",
       "      <td>1145.662109</td>\n",
       "    </tr>\n",
       "    <tr>\n",
       "      <td>13</td>\n",
       "      <td>Jun-2019</td>\n",
       "      <td>1091.198926</td>\n",
       "    </tr>\n",
       "    <tr>\n",
       "      <td>14</td>\n",
       "      <td>Mar-2018</td>\n",
       "      <td>1057.923177</td>\n",
       "    </tr>\n",
       "    <tr>\n",
       "      <td>15</td>\n",
       "      <td>Mar-2019</td>\n",
       "      <td>1190.457868</td>\n",
       "    </tr>\n",
       "    <tr>\n",
       "      <td>16</td>\n",
       "      <td>May-2018</td>\n",
       "      <td>1085.735884</td>\n",
       "    </tr>\n",
       "    <tr>\n",
       "      <td>17</td>\n",
       "      <td>May-2019</td>\n",
       "      <td>1138.071733</td>\n",
       "    </tr>\n",
       "    <tr>\n",
       "      <td>18</td>\n",
       "      <td>Nov-2017</td>\n",
       "      <td>1046.676897</td>\n",
       "    </tr>\n",
       "    <tr>\n",
       "      <td>19</td>\n",
       "      <td>Nov-2018</td>\n",
       "      <td>1074.445219</td>\n",
       "    </tr>\n",
       "    <tr>\n",
       "      <td>20</td>\n",
       "      <td>Oct-2017</td>\n",
       "      <td>1029.005664</td>\n",
       "    </tr>\n",
       "    <tr>\n",
       "      <td>21</td>\n",
       "      <td>Oct-2018</td>\n",
       "      <td>1085.620669</td>\n",
       "    </tr>\n",
       "    <tr>\n",
       "      <td>22</td>\n",
       "      <td>Oct-2019</td>\n",
       "      <td>1241.995443</td>\n",
       "    </tr>\n",
       "    <tr>\n",
       "      <td>23</td>\n",
       "      <td>Sep-2018</td>\n",
       "      <td>1189.124897</td>\n",
       "    </tr>\n",
       "    <tr>\n",
       "      <td>24</td>\n",
       "      <td>Sep-2019</td>\n",
       "      <td>1228.506738</td>\n",
       "    </tr>\n",
       "  </tbody>\n",
       "</table>\n",
       "</div>"
      ],
      "text/plain": [
       "        Date         vwap\n",
       "0   Apr-2018  1039.895740\n",
       "1   Apr-2019  1238.399554\n",
       "2   Aug-2018  1241.184528\n",
       "3   Aug-2019  1180.048118\n",
       "4   Dec-2017  1061.661523\n",
       "5   Dec-2018  1034.177118\n",
       "6   Feb-2018  1100.108655\n",
       "7   Feb-2019  1121.357011\n",
       "8   Jan-2018  1167.442522\n",
       "9   Jan-2019  1094.331752\n",
       "10  Jul-2018  1235.171968\n",
       "11  Jul-2019  1195.740234\n",
       "12  Jun-2018  1145.662109\n",
       "13  Jun-2019  1091.198926\n",
       "14  Mar-2018  1057.923177\n",
       "15  Mar-2019  1190.457868\n",
       "16  May-2018  1085.735884\n",
       "17  May-2019  1138.071733\n",
       "18  Nov-2017  1046.676897\n",
       "19  Nov-2018  1074.445219\n",
       "20  Oct-2017  1029.005664\n",
       "21  Oct-2018  1085.620669\n",
       "22  Oct-2019  1241.995443\n",
       "23  Sep-2018  1189.124897\n",
       "24  Sep-2019  1228.506738"
      ]
     },
     "execution_count": 52,
     "metadata": {},
     "output_type": "execute_result"
    }
   ],
   "source": [
    "vwap"
   ]
  },
  {
   "cell_type": "markdown",
   "metadata": {},
   "source": [
    "## Last n day's Average Price"
   ]
  },
  {
   "cell_type": "code",
   "execution_count": 53,
   "metadata": {},
   "outputs": [],
   "source": [
    "def avg(n):\n",
    "    prev = df2.Date[0]-timedelta(n)\n",
    "    dat = df2[df2['Date']>=prev]\n",
    "    print('Average Price for the last ',n,' days = ',dat['Close Price'].sum()/len(dat))"
   ]
  },
  {
   "cell_type": "code",
   "execution_count": 54,
   "metadata": {},
   "outputs": [
    {
     "name": "stdout",
     "output_type": "stream",
     "text": [
      "Average Price for the last  7  days =  1249.9049479166667\n",
      "Average Price for the last  14  days =  1238.8744673295455\n",
      "Average Price for the last  30  days =  1224.624320652174\n",
      "Average Price for the last  90  days =  1209.11669921875\n",
      "Average Price for the last  180  days =  1169.7704613095239\n",
      "Average Price for the last  360  days =  1145.0316265060242\n"
     ]
    }
   ],
   "source": [
    "avg(7)\n",
    "avg(14)\n",
    "avg(30)\n",
    "avg(90)\n",
    "avg(180)\n",
    "avg(360)"
   ]
  },
  {
   "cell_type": "code",
   "execution_count": 55,
   "metadata": {},
   "outputs": [],
   "source": [
    "def chg(n):\n",
    "    new = df2['Close Price'][0]\n",
    "    try:\n",
    "        prev = df2.Date[0]-timedelta(n)\n",
    "        orig = df2[df2['Date']==prev]['Close Price'].values\n",
    "        temp = ((new-orig)/orig)[0]*100\n",
    "    except IndexError:\n",
    "        prev = df2.Date[0]-timedelta(n+1)\n",
    "        orig = df2[df2['Date']==prev]['Close Price'].values\n",
    "        temp = ((new-orig)/orig)[0]*100\n",
    "    print('Percentage Change over last ',n,' days = ',temp,'%')"
   ]
  },
  {
   "cell_type": "code",
   "execution_count": 56,
   "metadata": {
    "scrolled": true
   },
   "outputs": [
    {
     "name": "stdout",
     "output_type": "stream",
     "text": [
      "Percentage Change over last  7  days =  0.5036666989326477 %\n",
      "Percentage Change over last  14  days =  4.104278236627579 %\n",
      "Percentage Change over last  30  days =  3.347207233309746 %\n",
      "Percentage Change over last  90  days =  1.1154667474329472 %\n",
      "Percentage Change over last  180  days =  -1.433362439274788 %\n",
      "Percentage Change over last  360  days =  21.684885025024414 %\n"
     ]
    }
   ],
   "source": [
    "chg(7)\n",
    "chg(14)\n",
    "chg(30)\n",
    "chg(90)\n",
    "chg(180)\n",
    "chg(360)"
   ]
  },
  {
   "cell_type": "code",
   "execution_count": 77,
   "metadata": {},
   "outputs": [],
   "source": [
    "df3['Day_Perc_Change'] = 0"
   ]
  },
  {
   "cell_type": "code",
   "execution_count": 78,
   "metadata": {
    "scrolled": true
   },
   "outputs": [],
   "source": [
    "df3['Day_Perc_Change'] = df3['Close Price'].pct_change()*100"
   ]
  },
  {
   "cell_type": "code",
   "execution_count": 79,
   "metadata": {
    "scrolled": true
   },
   "outputs": [
    {
     "name": "stderr",
     "output_type": "stream",
     "text": [
      "/home/user/.local/lib/python3.6/site-packages/pandas/core/indexing.py:205: SettingWithCopyWarning: \n",
      "A value is trying to be set on a copy of a slice from a DataFrame\n",
      "\n",
      "See the caveats in the documentation: http://pandas.pydata.org/pandas-docs/stable/user_guide/indexing.html#returning-a-view-versus-a-copy\n",
      "  self._setitem_with_indexer(indexer, value)\n"
     ]
    }
   ],
   "source": [
    "df3['Day_Perc_Change'].iloc[0] = 0"
   ]
  },
  {
   "cell_type": "code",
   "execution_count": 123,
   "metadata": {},
   "outputs": [],
   "source": [
    "df3['Trend'] = ''"
   ]
  },
  {
   "cell_type": "code",
   "execution_count": 124,
   "metadata": {},
   "outputs": [],
   "source": [
    "df3.loc[(df3['Day_Perc_Change']>-0.5)&(df3['Day_Perc_Change']<0.5),'Trend'] = 'Slight or No Change'\n",
    "df3.loc[(df3['Day_Perc_Change']>=0.5)&(df3['Day_Perc_Change']<1),'Trend'] = 'Slight Positive'\n",
    "df3.loc[(df3['Day_Perc_Change']>-1)&(df3['Day_Perc_Change']<=-0.5),'Trend'] = 'Slight Negative'\n",
    "df3.loc[(df3['Day_Perc_Change']>=1)&(df3['Day_Perc_Change']<3),'Trend'] = 'Positive'\n",
    "df3.loc[(df3['Day_Perc_Change']>-3)&(df3['Day_Perc_Change']<=-1),'Trend'] = 'Negative'\n",
    "df3.loc[(df3['Day_Perc_Change']>=3)&(df3['Day_Perc_Change']<7),'Trend'] = 'Among Top Gainers'\n",
    "df3.loc[(df3['Day_Perc_Change']>-7)&(df3['Day_Perc_Change']<=-3),'Trend'] = 'Among Top Losers'\n",
    "df3.loc[(df3['Day_Perc_Change']>=7),'Trend'] = 'Bull Run'\n",
    "df3.loc[(df3['Day_Perc_Change']<=-7),'Trend'] = 'Bear Drop'"
   ]
  },
  {
   "cell_type": "markdown",
   "metadata": {},
   "source": [
    "## Median"
   ]
  },
  {
   "cell_type": "code",
   "execution_count": 130,
   "metadata": {
    "scrolled": true
   },
   "outputs": [
    {
     "data": {
      "text/plain": [
       "Trend\n",
       "Among Top Gainers      2.305\n",
       "Among Top Losers       1.920\n",
       "Bear Drop              2.250\n",
       "Bull Run               3.550\n",
       "Negative               1.500\n",
       "Positive               1.665\n",
       "Slight Negative        1.490\n",
       "Slight Positive        1.450\n",
       "Slight or No Change    1.580\n",
       "Name: Total Traded Quantity, dtype: float32"
      ]
     },
     "execution_count": 130,
     "metadata": {},
     "output_type": "execute_result"
    }
   ],
   "source": [
    "df3.groupby('Trend')['Total Traded Quantity'].median()"
   ]
  },
  {
   "cell_type": "markdown",
   "metadata": {},
   "source": [
    "## Average"
   ]
  },
  {
   "cell_type": "code",
   "execution_count": 131,
   "metadata": {
    "scrolled": true
   },
   "outputs": [
    {
     "data": {
      "text/plain": [
       "Trend\n",
       "Among Top Gainers      2.577178\n",
       "Among Top Losers       2.204632\n",
       "Bear Drop              2.056667\n",
       "Bull Run               3.468000\n",
       "Negative               1.726792\n",
       "Positive               1.783822\n",
       "Slight Negative        1.712321\n",
       "Slight Positive        1.720406\n",
       "Slight or No Change    1.689781\n",
       "Name: Total Traded Quantity, dtype: float32"
      ]
     },
     "execution_count": 131,
     "metadata": {},
     "output_type": "execute_result"
    }
   ],
   "source": [
    "df3.groupby('Trend')['Total Traded Quantity'].mean()"
   ]
  },
  {
   "cell_type": "code",
   "execution_count": 133,
   "metadata": {},
   "outputs": [],
   "source": [
    "df3.to_csv('Module1.csv')"
   ]
  },
  {
   "cell_type": "code",
   "execution_count": 134,
   "metadata": {},
   "outputs": [
    {
     "data": {
      "text/html": [
       "<div>\n",
       "<style scoped>\n",
       "    .dataframe tbody tr th:only-of-type {\n",
       "        vertical-align: middle;\n",
       "    }\n",
       "\n",
       "    .dataframe tbody tr th {\n",
       "        vertical-align: top;\n",
       "    }\n",
       "\n",
       "    .dataframe thead th {\n",
       "        text-align: right;\n",
       "    }\n",
       "</style>\n",
       "<table border=\"1\" class=\"dataframe\">\n",
       "  <thead>\n",
       "    <tr style=\"text-align: right;\">\n",
       "      <th></th>\n",
       "      <th>Date</th>\n",
       "      <th>Close Price</th>\n",
       "      <th>Open Price</th>\n",
       "      <th>High Price</th>\n",
       "      <th>Low Price</th>\n",
       "      <th>Total Traded Quantity</th>\n",
       "      <th>Month</th>\n",
       "      <th>Year</th>\n",
       "      <th>temp</th>\n",
       "      <th>vwap</th>\n",
       "      <th>Day_Perc_Change</th>\n",
       "      <th>Trend</th>\n",
       "    </tr>\n",
       "  </thead>\n",
       "  <tbody>\n",
       "    <tr>\n",
       "      <td>375</td>\n",
       "      <td>2018-04-30</td>\n",
       "      <td>1018.580017</td>\n",
       "      <td>1034.420044</td>\n",
       "      <td>1038.369995</td>\n",
       "      <td>1018.299988</td>\n",
       "      <td>1.72000</td>\n",
       "      <td>Apr</td>\n",
       "      <td>2018</td>\n",
       "      <td>Apr-2018</td>\n",
       "      <td>1018.580017</td>\n",
       "      <td>0.000000</td>\n",
       "      <td>Slight or No Change</td>\n",
       "    </tr>\n",
       "    <tr>\n",
       "      <td>376</td>\n",
       "      <td>2018-04-27</td>\n",
       "      <td>1031.449951</td>\n",
       "      <td>1045.540039</td>\n",
       "      <td>1051.689941</td>\n",
       "      <td>1027.589966</td>\n",
       "      <td>2.04000</td>\n",
       "      <td>Apr</td>\n",
       "      <td>2018</td>\n",
       "      <td>Apr-2018</td>\n",
       "      <td>1025.562744</td>\n",
       "      <td>1.263523</td>\n",
       "      <td>Positive</td>\n",
       "    </tr>\n",
       "    <tr>\n",
       "      <td>377</td>\n",
       "      <td>2018-04-26</td>\n",
       "      <td>1043.310059</td>\n",
       "      <td>1033.219971</td>\n",
       "      <td>1052.020020</td>\n",
       "      <td>1020.450012</td>\n",
       "      <td>2.55000</td>\n",
       "      <td>Apr</td>\n",
       "      <td>2018</td>\n",
       "      <td>Apr-2018</td>\n",
       "      <td>1032.734863</td>\n",
       "      <td>1.149845</td>\n",
       "      <td>Positive</td>\n",
       "    </tr>\n",
       "    <tr>\n",
       "      <td>378</td>\n",
       "      <td>2018-04-25</td>\n",
       "      <td>1022.989990</td>\n",
       "      <td>1029.750000</td>\n",
       "      <td>1036.069946</td>\n",
       "      <td>1017.010010</td>\n",
       "      <td>2.89000</td>\n",
       "      <td>Apr</td>\n",
       "      <td>2018</td>\n",
       "      <td>Apr-2018</td>\n",
       "      <td>1029.673706</td>\n",
       "      <td>-1.947653</td>\n",
       "      <td>Negative</td>\n",
       "    </tr>\n",
       "    <tr>\n",
       "      <td>379</td>\n",
       "      <td>2018-04-24</td>\n",
       "      <td>1022.640015</td>\n",
       "      <td>1059.199951</td>\n",
       "      <td>1064.489990</td>\n",
       "      <td>1012.859985</td>\n",
       "      <td>6.41000</td>\n",
       "      <td>Apr</td>\n",
       "      <td>2018</td>\n",
       "      <td>Apr-2018</td>\n",
       "      <td>1026.785522</td>\n",
       "      <td>-0.034213</td>\n",
       "      <td>Slight or No Change</td>\n",
       "    </tr>\n",
       "    <tr>\n",
       "      <td>...</td>\n",
       "      <td>...</td>\n",
       "      <td>...</td>\n",
       "      <td>...</td>\n",
       "      <td>...</td>\n",
       "      <td>...</td>\n",
       "      <td>...</td>\n",
       "      <td>...</td>\n",
       "      <td>...</td>\n",
       "      <td>...</td>\n",
       "      <td>...</td>\n",
       "      <td>...</td>\n",
       "      <td>...</td>\n",
       "    </tr>\n",
       "    <tr>\n",
       "      <td>33</td>\n",
       "      <td>2019-09-09</td>\n",
       "      <td>1205.270020</td>\n",
       "      <td>1207.079956</td>\n",
       "      <td>1220.550049</td>\n",
       "      <td>1193.170044</td>\n",
       "      <td>1.59000</td>\n",
       "      <td>Sep</td>\n",
       "      <td>2019</td>\n",
       "      <td>Sep-2019</td>\n",
       "      <td>1227.598267</td>\n",
       "      <td>-0.035655</td>\n",
       "      <td>Slight or No Change</td>\n",
       "    </tr>\n",
       "    <tr>\n",
       "      <td>34</td>\n",
       "      <td>2019-09-06</td>\n",
       "      <td>1206.319946</td>\n",
       "      <td>1209.140015</td>\n",
       "      <td>1212.939941</td>\n",
       "      <td>1203.260010</td>\n",
       "      <td>0.94858</td>\n",
       "      <td>Sep</td>\n",
       "      <td>2019</td>\n",
       "      <td>Sep-2019</td>\n",
       "      <td>1226.705078</td>\n",
       "      <td>0.087106</td>\n",
       "      <td>Slight or No Change</td>\n",
       "    </tr>\n",
       "    <tr>\n",
       "      <td>35</td>\n",
       "      <td>2019-09-05</td>\n",
       "      <td>1212.189941</td>\n",
       "      <td>1193.660034</td>\n",
       "      <td>1214.000000</td>\n",
       "      <td>1192.689941</td>\n",
       "      <td>1.32000</td>\n",
       "      <td>Sep</td>\n",
       "      <td>2019</td>\n",
       "      <td>Sep-2019</td>\n",
       "      <td>1225.904053</td>\n",
       "      <td>0.486600</td>\n",
       "      <td>Slight or No Change</td>\n",
       "    </tr>\n",
       "    <tr>\n",
       "      <td>36</td>\n",
       "      <td>2019-09-04</td>\n",
       "      <td>1182.270020</td>\n",
       "      <td>1179.449951</td>\n",
       "      <td>1184.880005</td>\n",
       "      <td>1171.530029</td>\n",
       "      <td>1.07000</td>\n",
       "      <td>Sep</td>\n",
       "      <td>2019</td>\n",
       "      <td>Sep-2019</td>\n",
       "      <td>1224.035767</td>\n",
       "      <td>-2.468252</td>\n",
       "      <td>Negative</td>\n",
       "    </tr>\n",
       "    <tr>\n",
       "      <td>37</td>\n",
       "      <td>2019-09-03</td>\n",
       "      <td>1169.550049</td>\n",
       "      <td>1181.849976</td>\n",
       "      <td>1189.079956</td>\n",
       "      <td>1163.709961</td>\n",
       "      <td>1.30000</td>\n",
       "      <td>Sep</td>\n",
       "      <td>2019</td>\n",
       "      <td>Sep-2019</td>\n",
       "      <td>1221.341431</td>\n",
       "      <td>-1.075894</td>\n",
       "      <td>Negative</td>\n",
       "    </tr>\n",
       "  </tbody>\n",
       "</table>\n",
       "<p>503 rows × 12 columns</p>\n",
       "</div>"
      ],
      "text/plain": [
       "          Date  Close Price   Open Price   High Price    Low Price  \\\n",
       "375 2018-04-30  1018.580017  1034.420044  1038.369995  1018.299988   \n",
       "376 2018-04-27  1031.449951  1045.540039  1051.689941  1027.589966   \n",
       "377 2018-04-26  1043.310059  1033.219971  1052.020020  1020.450012   \n",
       "378 2018-04-25  1022.989990  1029.750000  1036.069946  1017.010010   \n",
       "379 2018-04-24  1022.640015  1059.199951  1064.489990  1012.859985   \n",
       "..         ...          ...          ...          ...          ...   \n",
       "33  2019-09-09  1205.270020  1207.079956  1220.550049  1193.170044   \n",
       "34  2019-09-06  1206.319946  1209.140015  1212.939941  1203.260010   \n",
       "35  2019-09-05  1212.189941  1193.660034  1214.000000  1192.689941   \n",
       "36  2019-09-04  1182.270020  1179.449951  1184.880005  1171.530029   \n",
       "37  2019-09-03  1169.550049  1181.849976  1189.079956  1163.709961   \n",
       "\n",
       "     Total Traded Quantity Month  Year      temp         vwap  \\\n",
       "375                1.72000   Apr  2018  Apr-2018  1018.580017   \n",
       "376                2.04000   Apr  2018  Apr-2018  1025.562744   \n",
       "377                2.55000   Apr  2018  Apr-2018  1032.734863   \n",
       "378                2.89000   Apr  2018  Apr-2018  1029.673706   \n",
       "379                6.41000   Apr  2018  Apr-2018  1026.785522   \n",
       "..                     ...   ...   ...       ...          ...   \n",
       "33                 1.59000   Sep  2019  Sep-2019  1227.598267   \n",
       "34                 0.94858   Sep  2019  Sep-2019  1226.705078   \n",
       "35                 1.32000   Sep  2019  Sep-2019  1225.904053   \n",
       "36                 1.07000   Sep  2019  Sep-2019  1224.035767   \n",
       "37                 1.30000   Sep  2019  Sep-2019  1221.341431   \n",
       "\n",
       "     Day_Perc_Change                Trend  \n",
       "375         0.000000  Slight or No Change  \n",
       "376         1.263523             Positive  \n",
       "377         1.149845             Positive  \n",
       "378        -1.947653             Negative  \n",
       "379        -0.034213  Slight or No Change  \n",
       "..               ...                  ...  \n",
       "33         -0.035655  Slight or No Change  \n",
       "34          0.087106  Slight or No Change  \n",
       "35          0.486600  Slight or No Change  \n",
       "36         -2.468252             Negative  \n",
       "37         -1.075894             Negative  \n",
       "\n",
       "[503 rows x 12 columns]"
      ]
     },
     "execution_count": 134,
     "metadata": {},
     "output_type": "execute_result"
    }
   ],
   "source": [
    "df3"
   ]
  },
  {
   "cell_type": "code",
   "execution_count": null,
   "metadata": {},
   "outputs": [],
   "source": []
  }
 ],
 "metadata": {
  "kernelspec": {
   "display_name": "Python 3",
   "language": "python",
   "name": "python3"
  },
  "language_info": {
   "codemirror_mode": {
    "name": "ipython",
    "version": 3
   },
   "file_extension": ".py",
   "mimetype": "text/x-python",
   "name": "python",
   "nbconvert_exporter": "python",
   "pygments_lexer": "ipython3",
   "version": "3.6.9"
  }
 },
 "nbformat": 4,
 "nbformat_minor": 4
}
